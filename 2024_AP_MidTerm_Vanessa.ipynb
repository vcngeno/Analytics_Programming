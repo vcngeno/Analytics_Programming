{
  "cells": [
    {
      "cell_type": "markdown",
      "metadata": {
        "id": "view-in-github",
        "colab_type": "text"
      },
      "source": [
        "<a href=\"https://colab.research.google.com/github/vcngeno/Analytics_Programming/blob/main/2024_AP_MidTerm_Vanessa.ipynb\" target=\"_parent\"><img src=\"https://colab.research.google.com/assets/colab-badge.svg\" alt=\"Open In Colab\"/></a>"
      ]
    },
    {
      "cell_type": "markdown",
      "id": "565636f3-15d3-4c02-933f-99c785f7d81f",
      "metadata": {
        "id": "565636f3-15d3-4c02-933f-99c785f7d81f"
      },
      "source": [
        "# Analytics Programming Mid-Term Exam\n"
      ]
    },
    {
      "cell_type": "markdown",
      "id": "d707a2d6-b184-4090-9e35-1ce3d1ebadd9",
      "metadata": {
        "id": "d707a2d6-b184-4090-9e35-1ce3d1ebadd9"
      },
      "source": [
        "**Instructor:** Kun Bao  \n",
        "**Date:** 2024-10-15  \n",
        "**Duration:** 60 minutes   \n",
        "**Instructions:** Answer all questions in notebook. Ensure clarity and correctness in your code.  \n",
        "\n",
        "- Please work on a single jupyter notebook and submit your ipynb fle at the end.\n",
        "- Please set alarm at 8:50PM to stop coding and use the rest of 5 mins to submit your jupyter fle."
      ]
    },
    {
      "cell_type": "markdown",
      "id": "2ef1d261-e3f2-4b06-ad53-e68649151133",
      "metadata": {
        "id": "2ef1d261-e3f2-4b06-ad53-e68649151133"
      },
      "source": [
        "## Student\n",
        "Name: Vanessa Ngeno\n",
        "\n",
        "SIS ID:"
      ]
    },
    {
      "cell_type": "markdown",
      "id": "10b130cd-cc1e-4ccd-80f0-b4b8b2f4bce3",
      "metadata": {
        "jp-MarkdownHeadingCollapsed": true,
        "id": "10b130cd-cc1e-4ccd-80f0-b4b8b2f4bce3"
      },
      "source": [
        "## Part 1: Multiple Choice Questions (20 points)"
      ]
    },
    {
      "cell_type": "markdown",
      "id": "d59e1dc6-7c4c-484c-bfb9-3df32f1be55d",
      "metadata": {
        "id": "d59e1dc6-7c4c-484c-bfb9-3df32f1be55d"
      },
      "source": [
        "#### Q1: Which of the following is used to create a list in Python?\n",
        "\n",
        "- A. []\n",
        "- B. {}\n",
        "- C. ()\n",
        "- D. <>"
      ]
    },
    {
      "cell_type": "markdown",
      "id": "3660226f-215f-4cd5-b049-39efd688ed91",
      "metadata": {
        "id": "3660226f-215f-4cd5-b049-39efd688ed91"
      },
      "source": [
        "Answer:  A"
      ]
    },
    {
      "cell_type": "markdown",
      "id": "49292dba-2eda-4d24-a9bd-2232a4fdfb07",
      "metadata": {
        "id": "49292dba-2eda-4d24-a9bd-2232a4fdfb07"
      },
      "source": [
        "#### Q2: Which of the following is used to install external packages in Python?\n",
        "\n",
        "- A. import  \n",
        "- B. pip  \n",
        "- C. module  \n",
        "- D. library"
      ]
    },
    {
      "cell_type": "code",
      "execution_count": null,
      "id": "b3afb6f5-53d3-43aa-93c6-bc6520e159a5",
      "metadata": {
        "id": "b3afb6f5-53d3-43aa-93c6-bc6520e159a5"
      },
      "outputs": [],
      "source": [
        "Answer:  A"
      ]
    },
    {
      "cell_type": "markdown",
      "id": "7c1810e5-0adf-4424-a411-c1c0fdd6d7b9",
      "metadata": {
        "id": "7c1810e5-0adf-4424-a411-c1c0fdd6d7b9"
      },
      "source": [
        "#### Q3: What does df.head() do in a Pandas DataFrame?\n",
        "\n",
        "- A. Returns the first 5 rows by default\n",
        "- B. Returns the column names\n",
        "- C. Returns the last 5 rows\n",
        "- D. Deletes the first 5 rows"
      ]
    },
    {
      "cell_type": "markdown",
      "id": "78153974-0bfc-47f6-866f-e68bece52259",
      "metadata": {
        "id": "78153974-0bfc-47f6-866f-e68bece52259"
      },
      "source": [
        "Answer:  A"
      ]
    },
    {
      "cell_type": "markdown",
      "id": "ac1c60ec-5ec9-4cbd-a04f-d9bc53007add",
      "metadata": {
        "id": "ac1c60ec-5ec9-4cbd-a04f-d9bc53007add"
      },
      "source": [
        "#### Q4: Which of the following is not a data type in Python?\n",
        "\n",
        "- A. list\n",
        "- B. float\n",
        "- C. set\n",
        "- D. array"
      ]
    },
    {
      "cell_type": "markdown",
      "id": "08b78498-5efb-404f-a93a-ba96b1d06795",
      "metadata": {
        "id": "08b78498-5efb-404f-a93a-ba96b1d06795"
      },
      "source": [
        "Answer:  C"
      ]
    },
    {
      "cell_type": "markdown",
      "id": "40065bf2-2075-43c2-a469-8848df0e8381",
      "metadata": {
        "id": "40065bf2-2075-43c2-a469-8848df0e8381"
      },
      "source": [
        "#### Q5: Which method is used to add an item to the end of a list in Python?\n",
        "\n",
        "- A. insert()\n",
        "- B. append()\n",
        "- C. add()\n",
        "- D. extend()"
      ]
    },
    {
      "cell_type": "markdown",
      "id": "18f92a31-e544-4494-a560-415f4dfd481a",
      "metadata": {
        "id": "18f92a31-e544-4494-a560-415f4dfd481a"
      },
      "source": [
        "Answer:  B"
      ]
    },
    {
      "cell_type": "markdown",
      "id": "618e3516-9b4b-4cef-9841-f24015680d66",
      "metadata": {
        "id": "618e3516-9b4b-4cef-9841-f24015680d66"
      },
      "source": [
        "#### Q6: Which of the following statements is *true* about Python dictionaries?\n",
        "\n",
        "- A. List can be used as Dictionaries key\n",
        "- B. Tuple can be used as Dictionaries key\n",
        "- C. Dictionary values must be unique\n",
        "- D. You can access a value using an index"
      ]
    },
    {
      "cell_type": "markdown",
      "id": "bc149ef5-ad07-46b9-9477-3347eecf51a6",
      "metadata": {
        "id": "bc149ef5-ad07-46b9-9477-3347eecf51a6"
      },
      "source": [
        "Answer:  B"
      ]
    },
    {
      "cell_type": "markdown",
      "id": "7ad7efdc-2c81-4a54-9be3-684cc799d88c",
      "metadata": {
        "id": "7ad7efdc-2c81-4a54-9be3-684cc799d88c"
      },
      "source": [
        "#### Q7: Which of the following functions is used to remove missing values in a DataFrame?\n",
        "\n",
        "- A. dropna()\n",
        "- B. fillna()\n",
        "- C. replace()\n",
        "- D. isna()"
      ]
    },
    {
      "cell_type": "markdown",
      "id": "3969c8c8-3938-4b59-99cc-4327e6e660d9",
      "metadata": {
        "id": "3969c8c8-3938-4b59-99cc-4327e6e660d9"
      },
      "source": [
        "Answer:  A"
      ]
    },
    {
      "cell_type": "markdown",
      "id": "9708b867-4b86-41e5-b9d5-f06860015623",
      "metadata": {
        "id": "9708b867-4b86-41e5-b9d5-f06860015623"
      },
      "source": [
        "#### Q8: How do you select rows where a column value is greater than 10 in a Pandas DataFrame df?\n",
        "\n",
        "- A. df['column'] > 10\n",
        "- B. df.loc[df['column'] > 10]\n",
        "- C. df['column'] >= 10\n",
        "- D. df.query(\"column > 10\")\n"
      ]
    },
    {
      "cell_type": "markdown",
      "id": "275cce2d-d9d3-46f0-9ac7-26fc50b24e0a",
      "metadata": {
        "id": "275cce2d-d9d3-46f0-9ac7-26fc50b24e0a"
      },
      "source": [
        "Answer:  B"
      ]
    },
    {
      "cell_type": "markdown",
      "id": "fcbcb473-0c37-440e-ac47-dcca6bebf0ee",
      "metadata": {
        "id": "fcbcb473-0c37-440e-ac47-dcca6bebf0ee"
      },
      "source": [
        "#### Q9: What does the pivot_table() function do in Pandas?\n",
        "\n",
        "- A. Transforms a DataFrame into a more readable format\n",
        "- B. Aggregates data and creates a new DataFrame\n",
        "- C. Reshapes data without aggregation\n",
        "- D. Merges two DataFrames based on a common key"
      ]
    },
    {
      "cell_type": "code",
      "execution_count": null,
      "id": "c9b601e7-087f-4255-a76b-bdea8c6bcf1c",
      "metadata": {
        "id": "c9b601e7-087f-4255-a76b-bdea8c6bcf1c"
      },
      "outputs": [],
      "source": [
        "Answer:   B"
      ]
    },
    {
      "cell_type": "markdown",
      "id": "e7598ef1-6c6d-4725-aaf6-aa39b5ae9214",
      "metadata": {
        "id": "e7598ef1-6c6d-4725-aaf6-aa39b5ae9214"
      },
      "source": [
        "#### Q10: What is the purpose of the pd.concat() function in Pandas?\n",
        "\n",
        "- A. Merges DataFrames based on a key\n",
        "- B. Joins two DataFrames vertically or horizontally\n",
        "- C. Combines DataFrames while aggregating data\n",
        "- D. Splits a DataFrame into multiple DataFrames"
      ]
    },
    {
      "cell_type": "markdown",
      "id": "cf449674-406e-410f-a8e7-5db8bebf25e1",
      "metadata": {
        "id": "cf449674-406e-410f-a8e7-5db8bebf25e1"
      },
      "source": [
        "Answer:  A"
      ]
    },
    {
      "cell_type": "markdown",
      "id": "6bb114c1-0bf3-4fd2-8d99-078e02cdcd03",
      "metadata": {
        "jp-MarkdownHeadingCollapsed": true,
        "id": "6bb114c1-0bf3-4fd2-8d99-078e02cdcd03"
      },
      "source": [
        "## Part 2: Short Coding Problems (30 points)"
      ]
    },
    {
      "cell_type": "markdown",
      "id": "013fda80-5009-4a00-b8d7-0d4c18403be9",
      "metadata": {
        "id": "013fda80-5009-4a00-b8d7-0d4c18403be9"
      },
      "source": [
        "#### Q11: Create a Pandas DataFrame with the following values:\n",
        "\n",
        "![image.png](attachment:18a23f88-7563-429c-9370-0ea50e7b5239.png)"
      ]
    },
    {
      "cell_type": "code",
      "execution_count": null,
      "id": "ca56bca6-2fc6-4036-a71c-cd7533f9f9e8",
      "metadata": {
        "id": "ca56bca6-2fc6-4036-a71c-cd7533f9f9e8"
      },
      "outputs": [],
      "source": [
        "# Answer"
      ]
    },
    {
      "cell_type": "markdown",
      "id": "d6f2cde4-996d-4044-90cb-bbad16451966",
      "metadata": {
        "id": "d6f2cde4-996d-4044-90cb-bbad16451966"
      },
      "source": [
        "#### Q12: Write a function that takes a Pandas DataFrame and returns the number of missing values in each column.\n"
      ]
    },
    {
      "cell_type": "code",
      "execution_count": null,
      "id": "afcfb3d0-6d5c-4522-9255-cf9720b0ea2c",
      "metadata": {
        "id": "afcfb3d0-6d5c-4522-9255-cf9720b0ea2c",
        "outputId": "39242c8f-0fa6-4966-c57a-03c2c965ade7"
      },
      "outputs": [
        {
          "name": "stdout",
          "output_type": "stream",
          "text": [
            "None\n"
          ]
        }
      ],
      "source": [
        "import pandas as pd\n",
        "\n",
        "def count_missing_values(df):\n",
        "    # Your code here\n",
        "    pass\n",
        "\n",
        "# Example DataFrame\n",
        "data = {'A': [1, 2, None], 'B': [4, None, None], 'C': [7, 8, 9]}\n",
        "df = pd.DataFrame(data)\n",
        "print(count_missing_values(df))"
      ]
    },
    {
      "cell_type": "markdown",
      "id": "6f7d34c1-2c76-40da-b935-b20a9a6b3d76",
      "metadata": {
        "id": "6f7d34c1-2c76-40da-b935-b20a9a6b3d76"
      },
      "source": [
        "#### Q13: Given the following DataFrame, write a Python function that returns a new DataFrame containing only the rows where the values in column `'A'` are greater than 2."
      ]
    },
    {
      "cell_type": "code",
      "source": [
        "import pandas as pd"
      ],
      "metadata": {
        "id": "Vw423NtoqY4V"
      },
      "id": "Vw423NtoqY4V",
      "execution_count": 8,
      "outputs": []
    },
    {
      "cell_type": "code",
      "execution_count": 7,
      "id": "0bcded8f-d93a-49b2-976b-6ad80c3402b1",
      "metadata": {
        "colab": {
          "base_uri": "https://localhost:8080/"
        },
        "id": "0bcded8f-d93a-49b2-976b-6ad80c3402b1",
        "outputId": "d1bf7d6e-5b2a-49a6-b904-e84360ed5461"
      },
      "outputs": [
        {
          "output_type": "stream",
          "name": "stdout",
          "text": [
            "   A  B\n",
            "2  3  7\n",
            "3  4  8\n"
          ]
        }
      ],
      "source": [
        "data = {'A': [1, 2, 3, 4], 'B': [5, 6, 7, 8]}\n",
        "df = pd.DataFrame(data)\n",
        "\n",
        "def filter_dataframe(df):\n",
        "    return df[df['A'] > 2]\n",
        "    pass\n",
        "\n",
        "print(filter_dataframe(df))\n",
        "# Your function should return a DataFrame with the following rows:\n",
        "#    A  B\n",
        "# 2  3  7\n",
        "# 3  4  8"
      ]
    },
    {
      "cell_type": "markdown",
      "id": "fcc58eb0-bec4-4e7c-ada3-9dbda610b77f",
      "metadata": {
        "id": "fcc58eb0-bec4-4e7c-ada3-9dbda610b77f"
      },
      "source": [
        "#### Q14: Given two arrays, write a Python function that returns the intersection of the two arrays, i.e., the elements that are common to both arrays."
      ]
    },
    {
      "cell_type": "code",
      "execution_count": 9,
      "id": "01c52223-a3b5-48ed-93b5-3fabc70007da",
      "metadata": {
        "colab": {
          "base_uri": "https://localhost:8080/"
        },
        "id": "01c52223-a3b5-48ed-93b5-3fabc70007da",
        "outputId": "370b0a17-c8e0-4f89-c7b2-23b886f3f567"
      },
      "outputs": [
        {
          "output_type": "stream",
          "name": "stdout",
          "text": [
            "[0, 9]\n"
          ]
        }
      ],
      "source": [
        "X = [1,6,9,0]\n",
        "Y = [3,0,2,9]\n",
        "\n",
        "def get_intersection(x, y):\n",
        "    return list(set (x) & set (y))\n",
        "    pass\n",
        "\n",
        "print(get_intersection(X, Y))\n",
        "# Your function should return\n",
        "# [9,0]"
      ]
    },
    {
      "cell_type": "markdown",
      "id": "ede478cb-4446-474c-94a1-6310e692156f",
      "metadata": {
        "id": "ede478cb-4446-474c-94a1-6310e692156f"
      },
      "source": [
        "#### Q15: Given an array, write a Python function to find and return all the duplicate elements in the array."
      ]
    },
    {
      "cell_type": "code",
      "execution_count": 10,
      "id": "77afaf78-6719-401d-8bd7-7b625ccbc6e2",
      "metadata": {
        "colab": {
          "base_uri": "https://localhost:8080/",
          "height": 341
        },
        "id": "77afaf78-6719-401d-8bd7-7b625ccbc6e2",
        "outputId": "c74f8955-0a21-4ebc-857b-f5ec9c172850"
      },
      "outputs": [
        {
          "output_type": "error",
          "ename": "AttributeError",
          "evalue": "'list' object has no attribute 'duplicated'",
          "traceback": [
            "\u001b[0;31m---------------------------------------------------------------------------\u001b[0m",
            "\u001b[0;31mAttributeError\u001b[0m                            Traceback (most recent call last)",
            "\u001b[0;32m<ipython-input-10-aad2db5de69e>\u001b[0m in \u001b[0;36m<cell line: 6>\u001b[0;34m()\u001b[0m\n\u001b[1;32m      4\u001b[0m     \u001b[0;32mpass\u001b[0m\u001b[0;34m\u001b[0m\u001b[0;34m\u001b[0m\u001b[0m\n\u001b[1;32m      5\u001b[0m \u001b[0;34m\u001b[0m\u001b[0m\n\u001b[0;32m----> 6\u001b[0;31m \u001b[0mprint\u001b[0m\u001b[0;34m(\u001b[0m\u001b[0mget_duplicates\u001b[0m\u001b[0;34m(\u001b[0m\u001b[0mX\u001b[0m\u001b[0;34m)\u001b[0m\u001b[0;34m)\u001b[0m\u001b[0;34m\u001b[0m\u001b[0;34m\u001b[0m\u001b[0m\n\u001b[0m\u001b[1;32m      7\u001b[0m \u001b[0;31m# Expected output:\u001b[0m\u001b[0;34m\u001b[0m\u001b[0;34m\u001b[0m\u001b[0m\n\u001b[1;32m      8\u001b[0m \u001b[0;31m# [1,3]\u001b[0m\u001b[0;34m\u001b[0m\u001b[0;34m\u001b[0m\u001b[0m\n",
            "\u001b[0;32m<ipython-input-10-aad2db5de69e>\u001b[0m in \u001b[0;36mget_duplicates\u001b[0;34m(X)\u001b[0m\n\u001b[1;32m      1\u001b[0m \u001b[0mX\u001b[0m \u001b[0;34m=\u001b[0m \u001b[0;34m[\u001b[0m\u001b[0;36m1\u001b[0m\u001b[0;34m,\u001b[0m\u001b[0;36m2\u001b[0m\u001b[0;34m,\u001b[0m\u001b[0;36m3\u001b[0m\u001b[0;34m,\u001b[0m\u001b[0;36m1\u001b[0m\u001b[0;34m,\u001b[0m\u001b[0;36m3\u001b[0m\u001b[0;34m,\u001b[0m\u001b[0;36m6\u001b[0m\u001b[0;34m,\u001b[0m\u001b[0;36m5\u001b[0m\u001b[0;34m]\u001b[0m\u001b[0;34m\u001b[0m\u001b[0;34m\u001b[0m\u001b[0m\n\u001b[1;32m      2\u001b[0m \u001b[0;32mdef\u001b[0m \u001b[0mget_duplicates\u001b[0m\u001b[0;34m(\u001b[0m\u001b[0mX\u001b[0m\u001b[0;34m)\u001b[0m\u001b[0;34m:\u001b[0m\u001b[0;34m\u001b[0m\u001b[0;34m\u001b[0m\u001b[0m\n\u001b[0;32m----> 3\u001b[0;31m     \u001b[0mX\u001b[0m\u001b[0;34m.\u001b[0m\u001b[0mduplicated\u001b[0m\u001b[0;34m(\u001b[0m\u001b[0;34m)\u001b[0m\u001b[0;34m\u001b[0m\u001b[0;34m\u001b[0m\u001b[0m\n\u001b[0m\u001b[1;32m      4\u001b[0m     \u001b[0;32mpass\u001b[0m\u001b[0;34m\u001b[0m\u001b[0;34m\u001b[0m\u001b[0m\n\u001b[1;32m      5\u001b[0m \u001b[0;34m\u001b[0m\u001b[0m\n",
            "\u001b[0;31mAttributeError\u001b[0m: 'list' object has no attribute 'duplicated'"
          ]
        }
      ],
      "source": [
        "X = [1,2,3,1,3,6,5]\n",
        "def get_duplicates(input):\n",
        "    X.duplicated()\n",
        "    pass\n",
        "\n",
        "print(get_duplicates(X))\n",
        "# Expected output:\n",
        "# [1,3]"
      ]
    },
    {
      "cell_type": "markdown",
      "id": "a28abeb7-2e59-41d0-a9ec-586b8c6debe5",
      "metadata": {
        "id": "a28abeb7-2e59-41d0-a9ec-586b8c6debe5"
      },
      "source": [
        "#### Q16: You are given a list `X = ['foo', 'red', 'baz', 'dwarf', 'Foo', 'foO']`. Write a Python function to remove all occurrences of the string `'foo'` from the list, ignoring case sensitivity.\n"
      ]
    },
    {
      "cell_type": "code",
      "execution_count": 12,
      "id": "c52a753d-7228-447b-8eb8-a6c143c91468",
      "metadata": {
        "colab": {
          "base_uri": "https://localhost:8080/"
        },
        "id": "c52a753d-7228-447b-8eb8-a6c143c91468",
        "outputId": "1abb4594-21e0-482e-9f0a-d448da7e9c67"
      },
      "outputs": [
        {
          "output_type": "stream",
          "name": "stdout",
          "text": [
            "['red', 'baz', 'dwarf']\n"
          ]
        }
      ],
      "source": [
        "X = ['foo', 'red', 'baz', 'dwarf', 'foo', 'FoO']\n",
        "def remove_foo(input):\n",
        "    return [item for item in X if item.lower() != 'foo']\n",
        "    pass\n",
        "\n",
        "print(remove_foo(X))\n",
        "# Your code should return:\n",
        "# ['red', 'baz', 'dwarf']\n"
      ]
    },
    {
      "cell_type": "markdown",
      "id": "5ce19578-9047-4306-b28c-69384dadeb09",
      "metadata": {
        "id": "5ce19578-9047-4306-b28c-69384dadeb09"
      },
      "source": [
        "#### Q17: Given a list of strings, write a Python function to return the elements that have more than 2 letters and convert them to uppercase."
      ]
    },
    {
      "cell_type": "code",
      "execution_count": 14,
      "id": "829ae177-b027-4e19-b28e-1d1e05123a7d",
      "metadata": {
        "colab": {
          "base_uri": "https://localhost:8080/"
        },
        "id": "829ae177-b027-4e19-b28e-1d1e05123a7d",
        "outputId": "3aad9497-ff31-42ce-f82b-489cbd7e47aa"
      },
      "outputs": [
        {
          "output_type": "stream",
          "name": "stdout",
          "text": [
            "['BAT', 'CAR', 'DOVE', 'PYTHON']\n"
          ]
        }
      ],
      "source": [
        "X = [\"a\", \"as\", \"bat\", \"car\", \"dove\", \"python\"]\n",
        "\n",
        "def uppercase_words(input):\n",
        "    return [item.upper() for item in X if len(item) > 2]\n",
        "    pass\n",
        "\n",
        "print(uppercase_words(X))\n",
        "# Expected output:\n",
        "#  ['BAT', 'CAR', 'DOVE', 'PYTHON']"
      ]
    },
    {
      "cell_type": "markdown",
      "id": "5f113170-9772-4df7-9612-df480203c1d9",
      "metadata": {
        "id": "5f113170-9772-4df7-9612-df480203c1d9"
      },
      "source": [
        "#### Q18: Write a Python function to flatten a nested list (a list of tuples) into a single list of elements.\n"
      ]
    },
    {
      "cell_type": "code",
      "execution_count": null,
      "id": "510bdf41-b2f2-4c12-a984-d15ee894f1b9",
      "metadata": {
        "id": "510bdf41-b2f2-4c12-a984-d15ee894f1b9"
      },
      "outputs": [],
      "source": []
    },
    {
      "cell_type": "markdown",
      "id": "939287e5-9bcf-4479-b75d-28f7fcff96d6",
      "metadata": {
        "id": "939287e5-9bcf-4479-b75d-28f7fcff96d6"
      },
      "source": [
        "#### Q19:\n",
        "In mathematics, the Fibonacci sequence is a sequence in which each number is the sum of the two preceding ones. Numbers that are part of the Fibonacci sequence are known as Fibonacci numbers.\n",
        "\n",
        "Starting from 0 and 1, the first few values in the sequence are: 0, 1, 1, 2, 3, 5, 8, 13, 21, 34, 55, 89, 144.\n",
        "\n",
        "Write a Python generator function called `fibonacci()` that generates the Fibonacci sequence indefinitely. The function should yield the next number in the sequence each time it is called.\n"
      ]
    },
    {
      "cell_type": "code",
      "execution_count": 16,
      "id": "93d49752-b411-4f8b-9d23-c5ce8761dae2",
      "metadata": {
        "colab": {
          "base_uri": "https://localhost:8080/"
        },
        "id": "93d49752-b411-4f8b-9d23-c5ce8761dae2",
        "outputId": "98d854b9-239c-4027-ff7a-181bfc15abe8"
      },
      "outputs": [
        {
          "output_type": "stream",
          "name": "stdout",
          "text": [
            "0 1 1 2 3 5 8 13 21 34 "
          ]
        }
      ],
      "source": [
        "def fibonacci():\n",
        "    a,b = 0,1\n",
        "    while True:\n",
        "      yield a\n",
        "      a,b =b,a+b\n",
        "    pass\n",
        "\n",
        "# Example usage\n",
        "fib = fibonacci()\n",
        "for _ in range(10):\n",
        "     print(next(fib),end=\" \")\n",
        "\n",
        "# expected output\n",
        "# 0 1 1 2 3 5 8 13 21 34"
      ]
    },
    {
      "cell_type": "markdown",
      "id": "25943126-3900-475c-8743-597bb4dc5e7d",
      "metadata": {
        "id": "25943126-3900-475c-8743-597bb4dc5e7d"
      },
      "source": [
        "#### Q20:\n",
        "Given a pandas Series representing daily sales figures for a week, with the days of the week as the index, perform the following tasks:\n",
        "\n",
        "- Calculate the total sales for the week.\n",
        "- Identify the day of the week with the highest sales."
      ]
    },
    {
      "cell_type": "code",
      "execution_count": 31,
      "id": "282646cf-7057-4543-b859-fdbc70263692",
      "metadata": {
        "colab": {
          "base_uri": "https://localhost:8080/"
        },
        "id": "282646cf-7057-4543-b859-fdbc70263692",
        "outputId": "74c3b18b-22c8-4b27-a350-21e7bfbdc03f"
      },
      "outputs": [
        {
          "output_type": "stream",
          "name": "stdout",
          "text": [
            "1312.0\n",
            "day of the week with highest sales:Thursday\n"
          ]
        }
      ],
      "source": [
        "import numpy as np\n",
        "\n",
        "import pandas as pd\n",
        "\n",
        "sales = [150.5, 200.75, 180.0, 220.25, 160.5, 190.0, 210.0]\n",
        "days = ['Monday', 'Tuesday', 'Wednesday', 'Thursday', 'Friday', 'Saturday', 'Sunday']\n",
        "\n",
        "sales_df = pd.Series(sales, index=days)\n",
        "week_sales = sales_df.sum()\n",
        "print(week_sales)\n",
        "\n",
        "highest_day = sales_df.idxmax()\n",
        "print('day of the week with highest sales' + ':' + highest_day)\n",
        "\n"
      ]
    },
    {
      "cell_type": "markdown",
      "id": "180d5bab-30cc-4317-9143-320b109809ae",
      "metadata": {
        "jp-MarkdownHeadingCollapsed": true,
        "id": "180d5bab-30cc-4317-9143-320b109809ae"
      },
      "source": [
        "## Part 3: Data Visualization (10 points)"
      ]
    },
    {
      "cell_type": "markdown",
      "id": "98ee1bac-7e1b-4a0d-8dce-74c77d7e5750",
      "metadata": {
        "id": "98ee1bac-7e1b-4a0d-8dce-74c77d7e5750"
      },
      "source": [
        "#### Q21: Write a Python function that creates a scatter plot using Matplotlib.\n",
        "\n",
        "The function should take two lists, `x` and `y`, as arguments, and display a scatter plot with different colors for points above and below the line \\( y = x \\). Include titles for the x-axis and y-axis as well as a title for the graph.\n",
        "![image.png](attachment:5a08f031-2736-4307-bc3b-c8e8941b3416.png)"
      ]
    },
    {
      "cell_type": "code",
      "execution_count": null,
      "id": "11e2ddd9-a0b2-4ed7-ab40-d6b78465e8d7",
      "metadata": {
        "id": "11e2ddd9-a0b2-4ed7-ab40-d6b78465e8d7"
      },
      "outputs": [],
      "source": [
        "import matplotlib.pyplot as plt\n",
        "\n",
        "def plot_scatter_graph(x, y):\n",
        "    for i in range(len(x)):\n",
        "      if y[i] > x[i]:\n",
        "      plt.scatter(x[i], y[i], color = 'orange')\n",
        "      else:\n",
        "        plt.scatter(x[i], y[i], color ='brown')\n",
        "    pass\n",
        "\n",
        "# Example data\n",
        "x = [1, 2, 3, 4, 5]\n",
        "y = [1, 3, 2, 5, 4]\n",
        "plot_scatter_graph(x, y)"
      ]
    },
    {
      "cell_type": "code",
      "execution_count": null,
      "id": "67abc4bc-2ea8-4cd6-abad-5ffcab3c5d1a",
      "metadata": {
        "id": "67abc4bc-2ea8-4cd6-abad-5ffcab3c5d1a"
      },
      "outputs": [],
      "source": []
    },
    {
      "cell_type": "markdown",
      "id": "88b7ddb7-e27b-4954-b211-f127e4ddf742",
      "metadata": {
        "jp-MarkdownHeadingCollapsed": true,
        "id": "88b7ddb7-e27b-4954-b211-f127e4ddf742"
      },
      "source": [
        "## Part 4: Feature Engineering (10 points)"
      ]
    },
    {
      "cell_type": "markdown",
      "id": "36f21b5a-263b-416b-8d84-178585861113",
      "metadata": {
        "id": "36f21b5a-263b-416b-8d84-178585861113"
      },
      "source": [
        "In the Titanic dataset example, we aim to build a model to predict passenger survival based on the available features. Which of the following is the most appropriate method to handle each feature?\n",
        "![image.png](attachment:cce9bbb9-f956-46f2-83b9-b149c83d2c5c.png)\n"
      ]
    },
    {
      "cell_type": "markdown",
      "id": "dc356a09-f3a8-459e-8625-9744e013f94e",
      "metadata": {
        "id": "dc356a09-f3a8-459e-8625-9744e013f94e"
      },
      "source": [
        "#### Q22: Pclass (Passenger Ticket Class):\n",
        "- A. Normalize using Z-Score or Min-Max scaling\n",
        "- B. Apply Dummy Variable (One-Hot) Encoding\n",
        "- C. Use Label Encoding\n",
        "- D. Drop the column\n",
        "- E. Leave it as is"
      ]
    },
    {
      "cell_type": "code",
      "execution_count": null,
      "id": "0a420838-d1e1-41e1-a6dd-613f97f224d2",
      "metadata": {
        "id": "0a420838-d1e1-41e1-a6dd-613f97f224d2"
      },
      "outputs": [],
      "source": [
        "# Answer B\n"
      ]
    },
    {
      "cell_type": "markdown",
      "id": "d508ddeb-381f-437c-a3d0-09c22640604b",
      "metadata": {
        "id": "d508ddeb-381f-437c-a3d0-09c22640604b"
      },
      "source": [
        "#### Q23: Fare (Passenger Fare):\n",
        "- A. Normalize using Z-Score or Min-Max scaling\n",
        "- B. Apply Dummy Variable (One-Hot) Encoding\n",
        "- C. Use Label Encoding\n",
        "- D. Drop the column\n",
        "- E. Leave it as is"
      ]
    },
    {
      "cell_type": "code",
      "execution_count": null,
      "id": "4efde43e-9f2f-4759-ae8f-4c528ac7211a",
      "metadata": {
        "id": "4efde43e-9f2f-4759-ae8f-4c528ac7211a"
      },
      "outputs": [],
      "source": [
        "# Answer A"
      ]
    },
    {
      "cell_type": "markdown",
      "id": "7cd31181-6b04-406d-8e22-9eef47a2179a",
      "metadata": {
        "id": "7cd31181-6b04-406d-8e22-9eef47a2179a"
      },
      "source": [
        "#### Q24: Sex (Passenger Gender):\n",
        "- A. The length of the text in characters\n",
        "- B. Apply Dummy Variable (One-Hot) Encoding\n",
        "- C. Use Label Encoding\n",
        "- D. Drop the column\n",
        "- E. Leave it as is"
      ]
    },
    {
      "cell_type": "code",
      "execution_count": null,
      "id": "a4f9e548-d407-4877-b4a9-4c6ac77fecdd",
      "metadata": {
        "id": "a4f9e548-d407-4877-b4a9-4c6ac77fecdd"
      },
      "outputs": [],
      "source": [
        "# Answer C"
      ]
    },
    {
      "cell_type": "markdown",
      "id": "7bee8de4-5c3b-4f59-b626-9ee03c7c2c5e",
      "metadata": {
        "id": "7bee8de4-5c3b-4f59-b626-9ee03c7c2c5e"
      },
      "source": [
        "#### Q25: Embarked (Port of Embarkation):\n",
        "- A. The length of the text in characters\n",
        "- B. Apply Dummy Variable (One-Hot) Encoding\n",
        "- C. Use Label Encoding\n",
        "- D. Drop the column\n",
        "- E. Leave it as is\n"
      ]
    },
    {
      "cell_type": "code",
      "execution_count": null,
      "id": "abd634ab-4e09-4f65-b915-508b889fcaad",
      "metadata": {
        "id": "abd634ab-4e09-4f65-b915-508b889fcaad"
      },
      "outputs": [],
      "source": [
        "# Answer B"
      ]
    },
    {
      "cell_type": "markdown",
      "id": "9f5496a6-09cb-4058-9468-098b81d68bc6",
      "metadata": {
        "id": "9f5496a6-09cb-4058-9468-098b81d68bc6"
      },
      "source": [
        "#### Q26: Ticket (Ticket number):\n",
        "- A. The length of the text in characters\n",
        "- B. Apply Dummy Variable (One-Hot) Encoding\n",
        "- C. Use Label Encoding\n",
        "- D. Drop the column\n",
        "- E. Leave it as is\n"
      ]
    },
    {
      "cell_type": "code",
      "execution_count": null,
      "id": "e53c0077-72cd-4512-99d0-c088a7920ff3",
      "metadata": {
        "id": "e53c0077-72cd-4512-99d0-c088a7920ff3"
      },
      "outputs": [],
      "source": [
        "# Answer D"
      ]
    },
    {
      "cell_type": "markdown",
      "id": "1813eb42-441f-4290-8c9b-913868458064",
      "metadata": {
        "jp-MarkdownHeadingCollapsed": true,
        "id": "1813eb42-441f-4290-8c9b-913868458064"
      },
      "source": [
        "## Part 5: Problem Solving/Scenario-Based (30 points)\n",
        "These questions test logical thinking, using both Python and Pandas in real-world scenarios."
      ]
    },
    {
      "cell_type": "markdown",
      "id": "b08a5170-04af-43c7-a3b1-92a60d92b302",
      "metadata": {
        "id": "b08a5170-04af-43c7-a3b1-92a60d92b302"
      },
      "source": [
        "#### Q27 (2 points): Load the file \"laptop_dataset.csv\" into dataframe.\n",
        "\n",
        "hint: you need to skip the first row"
      ]
    },
    {
      "cell_type": "code",
      "execution_count": 32,
      "id": "3b0a0b75-6c51-45d2-86a4-c83a34f7c603",
      "metadata": {
        "colab": {
          "base_uri": "https://localhost:8080/",
          "height": 530
        },
        "id": "3b0a0b75-6c51-45d2-86a4-c83a34f7c603",
        "outputId": "7cf44dd5-edd8-46d8-d0b1-9fd5129bc5f7"
      },
      "outputs": [
        {
          "output_type": "execute_result",
          "data": {
            "text/plain": [
              "     Unnamed: 0 Manufacturer  Category     Screen  GPU  OS  CPU_core  \\\n",
              "0             0         Acer         4  IPS Panel    2   1         5   \n",
              "1             1         Dell         3    Full HD    1   1         3   \n",
              "2             2         Dell         3    Full HD    1   1         7   \n",
              "3             3         Dell         4  IPS Panel    2   1         5   \n",
              "4             4           HP         4    Full HD    2   1         7   \n",
              "..          ...          ...       ...        ...  ...  ..       ...   \n",
              "233         233       Lenovo         4  IPS Panel    2   1         7   \n",
              "234         234      Toshiba         3    Full HD    2   1         5   \n",
              "235         235       Lenovo         4  IPS Panel    2   1         5   \n",
              "236         236       Lenovo         3    Full HD    3   1         5   \n",
              "237         237      Toshiba         3    Full HD    2   1         5   \n",
              "\n",
              "     Screen_Size_cm  CPU_frequency  RAM_GB  Storage_GB_SSD  Weight_kg  Price  \n",
              "0            35.560            1.6       8             256       1.60    978  \n",
              "1            39.624            2.0       4             256       2.20    634  \n",
              "2            39.624            2.7       8             256       2.20    946  \n",
              "3            33.782            1.6       8             128       1.22   1244  \n",
              "4            39.624            1.8       8             256       1.91    837  \n",
              "..              ...            ...     ...             ...        ...    ...  \n",
              "233          35.560            2.6       8             256       1.70   1891  \n",
              "234          33.782            2.4       8             256       1.20   1950  \n",
              "235          30.480            2.6       8             256       1.36   2236  \n",
              "236          39.624            2.5       6             256       2.40    883  \n",
              "237          35.560            2.3       8             256       1.95   1499  \n",
              "\n",
              "[238 rows x 13 columns]"
            ],
            "text/html": [
              "\n",
              "  <div id=\"df-8010d3f4-4167-4bec-bef1-a1703e3922d2\" class=\"colab-df-container\">\n",
              "    <div>\n",
              "<style scoped>\n",
              "    .dataframe tbody tr th:only-of-type {\n",
              "        vertical-align: middle;\n",
              "    }\n",
              "\n",
              "    .dataframe tbody tr th {\n",
              "        vertical-align: top;\n",
              "    }\n",
              "\n",
              "    .dataframe thead th {\n",
              "        text-align: right;\n",
              "    }\n",
              "</style>\n",
              "<table border=\"1\" class=\"dataframe\">\n",
              "  <thead>\n",
              "    <tr style=\"text-align: right;\">\n",
              "      <th></th>\n",
              "      <th>Unnamed: 0</th>\n",
              "      <th>Manufacturer</th>\n",
              "      <th>Category</th>\n",
              "      <th>Screen</th>\n",
              "      <th>GPU</th>\n",
              "      <th>OS</th>\n",
              "      <th>CPU_core</th>\n",
              "      <th>Screen_Size_cm</th>\n",
              "      <th>CPU_frequency</th>\n",
              "      <th>RAM_GB</th>\n",
              "      <th>Storage_GB_SSD</th>\n",
              "      <th>Weight_kg</th>\n",
              "      <th>Price</th>\n",
              "    </tr>\n",
              "  </thead>\n",
              "  <tbody>\n",
              "    <tr>\n",
              "      <th>0</th>\n",
              "      <td>0</td>\n",
              "      <td>Acer</td>\n",
              "      <td>4</td>\n",
              "      <td>IPS Panel</td>\n",
              "      <td>2</td>\n",
              "      <td>1</td>\n",
              "      <td>5</td>\n",
              "      <td>35.560</td>\n",
              "      <td>1.6</td>\n",
              "      <td>8</td>\n",
              "      <td>256</td>\n",
              "      <td>1.60</td>\n",
              "      <td>978</td>\n",
              "    </tr>\n",
              "    <tr>\n",
              "      <th>1</th>\n",
              "      <td>1</td>\n",
              "      <td>Dell</td>\n",
              "      <td>3</td>\n",
              "      <td>Full HD</td>\n",
              "      <td>1</td>\n",
              "      <td>1</td>\n",
              "      <td>3</td>\n",
              "      <td>39.624</td>\n",
              "      <td>2.0</td>\n",
              "      <td>4</td>\n",
              "      <td>256</td>\n",
              "      <td>2.20</td>\n",
              "      <td>634</td>\n",
              "    </tr>\n",
              "    <tr>\n",
              "      <th>2</th>\n",
              "      <td>2</td>\n",
              "      <td>Dell</td>\n",
              "      <td>3</td>\n",
              "      <td>Full HD</td>\n",
              "      <td>1</td>\n",
              "      <td>1</td>\n",
              "      <td>7</td>\n",
              "      <td>39.624</td>\n",
              "      <td>2.7</td>\n",
              "      <td>8</td>\n",
              "      <td>256</td>\n",
              "      <td>2.20</td>\n",
              "      <td>946</td>\n",
              "    </tr>\n",
              "    <tr>\n",
              "      <th>3</th>\n",
              "      <td>3</td>\n",
              "      <td>Dell</td>\n",
              "      <td>4</td>\n",
              "      <td>IPS Panel</td>\n",
              "      <td>2</td>\n",
              "      <td>1</td>\n",
              "      <td>5</td>\n",
              "      <td>33.782</td>\n",
              "      <td>1.6</td>\n",
              "      <td>8</td>\n",
              "      <td>128</td>\n",
              "      <td>1.22</td>\n",
              "      <td>1244</td>\n",
              "    </tr>\n",
              "    <tr>\n",
              "      <th>4</th>\n",
              "      <td>4</td>\n",
              "      <td>HP</td>\n",
              "      <td>4</td>\n",
              "      <td>Full HD</td>\n",
              "      <td>2</td>\n",
              "      <td>1</td>\n",
              "      <td>7</td>\n",
              "      <td>39.624</td>\n",
              "      <td>1.8</td>\n",
              "      <td>8</td>\n",
              "      <td>256</td>\n",
              "      <td>1.91</td>\n",
              "      <td>837</td>\n",
              "    </tr>\n",
              "    <tr>\n",
              "      <th>...</th>\n",
              "      <td>...</td>\n",
              "      <td>...</td>\n",
              "      <td>...</td>\n",
              "      <td>...</td>\n",
              "      <td>...</td>\n",
              "      <td>...</td>\n",
              "      <td>...</td>\n",
              "      <td>...</td>\n",
              "      <td>...</td>\n",
              "      <td>...</td>\n",
              "      <td>...</td>\n",
              "      <td>...</td>\n",
              "      <td>...</td>\n",
              "    </tr>\n",
              "    <tr>\n",
              "      <th>233</th>\n",
              "      <td>233</td>\n",
              "      <td>Lenovo</td>\n",
              "      <td>4</td>\n",
              "      <td>IPS Panel</td>\n",
              "      <td>2</td>\n",
              "      <td>1</td>\n",
              "      <td>7</td>\n",
              "      <td>35.560</td>\n",
              "      <td>2.6</td>\n",
              "      <td>8</td>\n",
              "      <td>256</td>\n",
              "      <td>1.70</td>\n",
              "      <td>1891</td>\n",
              "    </tr>\n",
              "    <tr>\n",
              "      <th>234</th>\n",
              "      <td>234</td>\n",
              "      <td>Toshiba</td>\n",
              "      <td>3</td>\n",
              "      <td>Full HD</td>\n",
              "      <td>2</td>\n",
              "      <td>1</td>\n",
              "      <td>5</td>\n",
              "      <td>33.782</td>\n",
              "      <td>2.4</td>\n",
              "      <td>8</td>\n",
              "      <td>256</td>\n",
              "      <td>1.20</td>\n",
              "      <td>1950</td>\n",
              "    </tr>\n",
              "    <tr>\n",
              "      <th>235</th>\n",
              "      <td>235</td>\n",
              "      <td>Lenovo</td>\n",
              "      <td>4</td>\n",
              "      <td>IPS Panel</td>\n",
              "      <td>2</td>\n",
              "      <td>1</td>\n",
              "      <td>5</td>\n",
              "      <td>30.480</td>\n",
              "      <td>2.6</td>\n",
              "      <td>8</td>\n",
              "      <td>256</td>\n",
              "      <td>1.36</td>\n",
              "      <td>2236</td>\n",
              "    </tr>\n",
              "    <tr>\n",
              "      <th>236</th>\n",
              "      <td>236</td>\n",
              "      <td>Lenovo</td>\n",
              "      <td>3</td>\n",
              "      <td>Full HD</td>\n",
              "      <td>3</td>\n",
              "      <td>1</td>\n",
              "      <td>5</td>\n",
              "      <td>39.624</td>\n",
              "      <td>2.5</td>\n",
              "      <td>6</td>\n",
              "      <td>256</td>\n",
              "      <td>2.40</td>\n",
              "      <td>883</td>\n",
              "    </tr>\n",
              "    <tr>\n",
              "      <th>237</th>\n",
              "      <td>237</td>\n",
              "      <td>Toshiba</td>\n",
              "      <td>3</td>\n",
              "      <td>Full HD</td>\n",
              "      <td>2</td>\n",
              "      <td>1</td>\n",
              "      <td>5</td>\n",
              "      <td>35.560</td>\n",
              "      <td>2.3</td>\n",
              "      <td>8</td>\n",
              "      <td>256</td>\n",
              "      <td>1.95</td>\n",
              "      <td>1499</td>\n",
              "    </tr>\n",
              "  </tbody>\n",
              "</table>\n",
              "<p>238 rows × 13 columns</p>\n",
              "</div>\n",
              "    <div class=\"colab-df-buttons\">\n",
              "\n",
              "  <div class=\"colab-df-container\">\n",
              "    <button class=\"colab-df-convert\" onclick=\"convertToInteractive('df-8010d3f4-4167-4bec-bef1-a1703e3922d2')\"\n",
              "            title=\"Convert this dataframe to an interactive table.\"\n",
              "            style=\"display:none;\">\n",
              "\n",
              "  <svg xmlns=\"http://www.w3.org/2000/svg\" height=\"24px\" viewBox=\"0 -960 960 960\">\n",
              "    <path d=\"M120-120v-720h720v720H120Zm60-500h600v-160H180v160Zm220 220h160v-160H400v160Zm0 220h160v-160H400v160ZM180-400h160v-160H180v160Zm440 0h160v-160H620v160ZM180-180h160v-160H180v160Zm440 0h160v-160H620v160Z\"/>\n",
              "  </svg>\n",
              "    </button>\n",
              "\n",
              "  <style>\n",
              "    .colab-df-container {\n",
              "      display:flex;\n",
              "      gap: 12px;\n",
              "    }\n",
              "\n",
              "    .colab-df-convert {\n",
              "      background-color: #E8F0FE;\n",
              "      border: none;\n",
              "      border-radius: 50%;\n",
              "      cursor: pointer;\n",
              "      display: none;\n",
              "      fill: #1967D2;\n",
              "      height: 32px;\n",
              "      padding: 0 0 0 0;\n",
              "      width: 32px;\n",
              "    }\n",
              "\n",
              "    .colab-df-convert:hover {\n",
              "      background-color: #E2EBFA;\n",
              "      box-shadow: 0px 1px 2px rgba(60, 64, 67, 0.3), 0px 1px 3px 1px rgba(60, 64, 67, 0.15);\n",
              "      fill: #174EA6;\n",
              "    }\n",
              "\n",
              "    .colab-df-buttons div {\n",
              "      margin-bottom: 4px;\n",
              "    }\n",
              "\n",
              "    [theme=dark] .colab-df-convert {\n",
              "      background-color: #3B4455;\n",
              "      fill: #D2E3FC;\n",
              "    }\n",
              "\n",
              "    [theme=dark] .colab-df-convert:hover {\n",
              "      background-color: #434B5C;\n",
              "      box-shadow: 0px 1px 3px 1px rgba(0, 0, 0, 0.15);\n",
              "      filter: drop-shadow(0px 1px 2px rgba(0, 0, 0, 0.3));\n",
              "      fill: #FFFFFF;\n",
              "    }\n",
              "  </style>\n",
              "\n",
              "    <script>\n",
              "      const buttonEl =\n",
              "        document.querySelector('#df-8010d3f4-4167-4bec-bef1-a1703e3922d2 button.colab-df-convert');\n",
              "      buttonEl.style.display =\n",
              "        google.colab.kernel.accessAllowed ? 'block' : 'none';\n",
              "\n",
              "      async function convertToInteractive(key) {\n",
              "        const element = document.querySelector('#df-8010d3f4-4167-4bec-bef1-a1703e3922d2');\n",
              "        const dataTable =\n",
              "          await google.colab.kernel.invokeFunction('convertToInteractive',\n",
              "                                                    [key], {});\n",
              "        if (!dataTable) return;\n",
              "\n",
              "        const docLinkHtml = 'Like what you see? Visit the ' +\n",
              "          '<a target=\"_blank\" href=https://colab.research.google.com/notebooks/data_table.ipynb>data table notebook</a>'\n",
              "          + ' to learn more about interactive tables.';\n",
              "        element.innerHTML = '';\n",
              "        dataTable['output_type'] = 'display_data';\n",
              "        await google.colab.output.renderOutput(dataTable, element);\n",
              "        const docLink = document.createElement('div');\n",
              "        docLink.innerHTML = docLinkHtml;\n",
              "        element.appendChild(docLink);\n",
              "      }\n",
              "    </script>\n",
              "  </div>\n",
              "\n",
              "\n",
              "<div id=\"df-d156f7b1-99af-48fb-8a9c-1bc5cc3a2257\">\n",
              "  <button class=\"colab-df-quickchart\" onclick=\"quickchart('df-d156f7b1-99af-48fb-8a9c-1bc5cc3a2257')\"\n",
              "            title=\"Suggest charts\"\n",
              "            style=\"display:none;\">\n",
              "\n",
              "<svg xmlns=\"http://www.w3.org/2000/svg\" height=\"24px\"viewBox=\"0 0 24 24\"\n",
              "     width=\"24px\">\n",
              "    <g>\n",
              "        <path d=\"M19 3H5c-1.1 0-2 .9-2 2v14c0 1.1.9 2 2 2h14c1.1 0 2-.9 2-2V5c0-1.1-.9-2-2-2zM9 17H7v-7h2v7zm4 0h-2V7h2v10zm4 0h-2v-4h2v4z\"/>\n",
              "    </g>\n",
              "</svg>\n",
              "  </button>\n",
              "\n",
              "<style>\n",
              "  .colab-df-quickchart {\n",
              "      --bg-color: #E8F0FE;\n",
              "      --fill-color: #1967D2;\n",
              "      --hover-bg-color: #E2EBFA;\n",
              "      --hover-fill-color: #174EA6;\n",
              "      --disabled-fill-color: #AAA;\n",
              "      --disabled-bg-color: #DDD;\n",
              "  }\n",
              "\n",
              "  [theme=dark] .colab-df-quickchart {\n",
              "      --bg-color: #3B4455;\n",
              "      --fill-color: #D2E3FC;\n",
              "      --hover-bg-color: #434B5C;\n",
              "      --hover-fill-color: #FFFFFF;\n",
              "      --disabled-bg-color: #3B4455;\n",
              "      --disabled-fill-color: #666;\n",
              "  }\n",
              "\n",
              "  .colab-df-quickchart {\n",
              "    background-color: var(--bg-color);\n",
              "    border: none;\n",
              "    border-radius: 50%;\n",
              "    cursor: pointer;\n",
              "    display: none;\n",
              "    fill: var(--fill-color);\n",
              "    height: 32px;\n",
              "    padding: 0;\n",
              "    width: 32px;\n",
              "  }\n",
              "\n",
              "  .colab-df-quickchart:hover {\n",
              "    background-color: var(--hover-bg-color);\n",
              "    box-shadow: 0 1px 2px rgba(60, 64, 67, 0.3), 0 1px 3px 1px rgba(60, 64, 67, 0.15);\n",
              "    fill: var(--button-hover-fill-color);\n",
              "  }\n",
              "\n",
              "  .colab-df-quickchart-complete:disabled,\n",
              "  .colab-df-quickchart-complete:disabled:hover {\n",
              "    background-color: var(--disabled-bg-color);\n",
              "    fill: var(--disabled-fill-color);\n",
              "    box-shadow: none;\n",
              "  }\n",
              "\n",
              "  .colab-df-spinner {\n",
              "    border: 2px solid var(--fill-color);\n",
              "    border-color: transparent;\n",
              "    border-bottom-color: var(--fill-color);\n",
              "    animation:\n",
              "      spin 1s steps(1) infinite;\n",
              "  }\n",
              "\n",
              "  @keyframes spin {\n",
              "    0% {\n",
              "      border-color: transparent;\n",
              "      border-bottom-color: var(--fill-color);\n",
              "      border-left-color: var(--fill-color);\n",
              "    }\n",
              "    20% {\n",
              "      border-color: transparent;\n",
              "      border-left-color: var(--fill-color);\n",
              "      border-top-color: var(--fill-color);\n",
              "    }\n",
              "    30% {\n",
              "      border-color: transparent;\n",
              "      border-left-color: var(--fill-color);\n",
              "      border-top-color: var(--fill-color);\n",
              "      border-right-color: var(--fill-color);\n",
              "    }\n",
              "    40% {\n",
              "      border-color: transparent;\n",
              "      border-right-color: var(--fill-color);\n",
              "      border-top-color: var(--fill-color);\n",
              "    }\n",
              "    60% {\n",
              "      border-color: transparent;\n",
              "      border-right-color: var(--fill-color);\n",
              "    }\n",
              "    80% {\n",
              "      border-color: transparent;\n",
              "      border-right-color: var(--fill-color);\n",
              "      border-bottom-color: var(--fill-color);\n",
              "    }\n",
              "    90% {\n",
              "      border-color: transparent;\n",
              "      border-bottom-color: var(--fill-color);\n",
              "    }\n",
              "  }\n",
              "</style>\n",
              "\n",
              "  <script>\n",
              "    async function quickchart(key) {\n",
              "      const quickchartButtonEl =\n",
              "        document.querySelector('#' + key + ' button');\n",
              "      quickchartButtonEl.disabled = true;  // To prevent multiple clicks.\n",
              "      quickchartButtonEl.classList.add('colab-df-spinner');\n",
              "      try {\n",
              "        const charts = await google.colab.kernel.invokeFunction(\n",
              "            'suggestCharts', [key], {});\n",
              "      } catch (error) {\n",
              "        console.error('Error during call to suggestCharts:', error);\n",
              "      }\n",
              "      quickchartButtonEl.classList.remove('colab-df-spinner');\n",
              "      quickchartButtonEl.classList.add('colab-df-quickchart-complete');\n",
              "    }\n",
              "    (() => {\n",
              "      let quickchartButtonEl =\n",
              "        document.querySelector('#df-d156f7b1-99af-48fb-8a9c-1bc5cc3a2257 button');\n",
              "      quickchartButtonEl.style.display =\n",
              "        google.colab.kernel.accessAllowed ? 'block' : 'none';\n",
              "    })();\n",
              "  </script>\n",
              "</div>\n",
              "\n",
              "  <div id=\"id_6fa38aa2-bff2-4c85-8dcb-ff9f11e84401\">\n",
              "    <style>\n",
              "      .colab-df-generate {\n",
              "        background-color: #E8F0FE;\n",
              "        border: none;\n",
              "        border-radius: 50%;\n",
              "        cursor: pointer;\n",
              "        display: none;\n",
              "        fill: #1967D2;\n",
              "        height: 32px;\n",
              "        padding: 0 0 0 0;\n",
              "        width: 32px;\n",
              "      }\n",
              "\n",
              "      .colab-df-generate:hover {\n",
              "        background-color: #E2EBFA;\n",
              "        box-shadow: 0px 1px 2px rgba(60, 64, 67, 0.3), 0px 1px 3px 1px rgba(60, 64, 67, 0.15);\n",
              "        fill: #174EA6;\n",
              "      }\n",
              "\n",
              "      [theme=dark] .colab-df-generate {\n",
              "        background-color: #3B4455;\n",
              "        fill: #D2E3FC;\n",
              "      }\n",
              "\n",
              "      [theme=dark] .colab-df-generate:hover {\n",
              "        background-color: #434B5C;\n",
              "        box-shadow: 0px 1px 3px 1px rgba(0, 0, 0, 0.15);\n",
              "        filter: drop-shadow(0px 1px 2px rgba(0, 0, 0, 0.3));\n",
              "        fill: #FFFFFF;\n",
              "      }\n",
              "    </style>\n",
              "    <button class=\"colab-df-generate\" onclick=\"generateWithVariable('laptop_df')\"\n",
              "            title=\"Generate code using this dataframe.\"\n",
              "            style=\"display:none;\">\n",
              "\n",
              "  <svg xmlns=\"http://www.w3.org/2000/svg\" height=\"24px\"viewBox=\"0 0 24 24\"\n",
              "       width=\"24px\">\n",
              "    <path d=\"M7,19H8.4L18.45,9,17,7.55,7,17.6ZM5,21V16.75L18.45,3.32a2,2,0,0,1,2.83,0l1.4,1.43a1.91,1.91,0,0,1,.58,1.4,1.91,1.91,0,0,1-.58,1.4L9.25,21ZM18.45,9,17,7.55Zm-12,3A5.31,5.31,0,0,0,4.9,8.1,5.31,5.31,0,0,0,1,6.5,5.31,5.31,0,0,0,4.9,4.9,5.31,5.31,0,0,0,6.5,1,5.31,5.31,0,0,0,8.1,4.9,5.31,5.31,0,0,0,12,6.5,5.46,5.46,0,0,0,6.5,12Z\"/>\n",
              "  </svg>\n",
              "    </button>\n",
              "    <script>\n",
              "      (() => {\n",
              "      const buttonEl =\n",
              "        document.querySelector('#id_6fa38aa2-bff2-4c85-8dcb-ff9f11e84401 button.colab-df-generate');\n",
              "      buttonEl.style.display =\n",
              "        google.colab.kernel.accessAllowed ? 'block' : 'none';\n",
              "\n",
              "      buttonEl.onclick = () => {\n",
              "        google.colab.notebook.generateWithVariable('laptop_df');\n",
              "      }\n",
              "      })();\n",
              "    </script>\n",
              "  </div>\n",
              "\n",
              "    </div>\n",
              "  </div>\n"
            ],
            "application/vnd.google.colaboratory.intrinsic+json": {
              "type": "dataframe",
              "variable_name": "laptop_df",
              "summary": "{\n  \"name\": \"laptop_df\",\n  \"rows\": 238,\n  \"fields\": [\n    {\n      \"column\": \"Unnamed: 0\",\n      \"properties\": {\n        \"dtype\": \"number\",\n        \"std\": 68,\n        \"min\": 0,\n        \"max\": 237,\n        \"num_unique_values\": 238,\n        \"samples\": [\n          115,\n          15,\n          212\n        ],\n        \"semantic_type\": \"\",\n        \"description\": \"\"\n      }\n    },\n    {\n      \"column\": \"Manufacturer\",\n      \"properties\": {\n        \"dtype\": \"category\",\n        \"num_unique_values\": 11,\n        \"samples\": [\n          \"Huawei\",\n          \"Acer\",\n          \"Samsung\"\n        ],\n        \"semantic_type\": \"\",\n        \"description\": \"\"\n      }\n    },\n    {\n      \"column\": \"Category\",\n      \"properties\": {\n        \"dtype\": \"number\",\n        \"std\": 0,\n        \"min\": 1,\n        \"max\": 5,\n        \"num_unique_values\": 5,\n        \"samples\": [\n          3,\n          2,\n          1\n        ],\n        \"semantic_type\": \"\",\n        \"description\": \"\"\n      }\n    },\n    {\n      \"column\": \"Screen\",\n      \"properties\": {\n        \"dtype\": \"category\",\n        \"num_unique_values\": 2,\n        \"samples\": [\n          \"Full HD\",\n          \"IPS Panel\"\n        ],\n        \"semantic_type\": \"\",\n        \"description\": \"\"\n      }\n    },\n    {\n      \"column\": \"GPU\",\n      \"properties\": {\n        \"dtype\": \"number\",\n        \"std\": 0,\n        \"min\": 1,\n        \"max\": 3,\n        \"num_unique_values\": 3,\n        \"samples\": [\n          2,\n          1\n        ],\n        \"semantic_type\": \"\",\n        \"description\": \"\"\n      }\n    },\n    {\n      \"column\": \"OS\",\n      \"properties\": {\n        \"dtype\": \"number\",\n        \"std\": 0,\n        \"min\": 1,\n        \"max\": 2,\n        \"num_unique_values\": 2,\n        \"samples\": [\n          2,\n          1\n        ],\n        \"semantic_type\": \"\",\n        \"description\": \"\"\n      }\n    },\n    {\n      \"column\": \"CPU_core\",\n      \"properties\": {\n        \"dtype\": \"number\",\n        \"std\": 1,\n        \"min\": 3,\n        \"max\": 7,\n        \"num_unique_values\": 3,\n        \"samples\": [\n          5,\n          3\n        ],\n        \"semantic_type\": \"\",\n        \"description\": \"\"\n      }\n    },\n    {\n      \"column\": \"Screen_Size_cm\",\n      \"properties\": {\n        \"dtype\": \"number\",\n        \"std\": 2.971365242625714,\n        \"min\": 30.48,\n        \"max\": 43.942,\n        \"num_unique_values\": 9,\n        \"samples\": [\n          31.75,\n          39.624\n        ],\n        \"semantic_type\": \"\",\n        \"description\": \"\"\n      }\n    },\n    {\n      \"column\": \"CPU_frequency\",\n      \"properties\": {\n        \"dtype\": \"number\",\n        \"std\": 0.41139260416917633,\n        \"min\": 1.2,\n        \"max\": 2.9,\n        \"num_unique_values\": 11,\n        \"samples\": [\n          2.4,\n          1.6\n        ],\n        \"semantic_type\": \"\",\n        \"description\": \"\"\n      }\n    },\n    {\n      \"column\": \"RAM_GB\",\n      \"properties\": {\n        \"dtype\": \"number\",\n        \"std\": 2,\n        \"min\": 4,\n        \"max\": 16,\n        \"num_unique_values\": 5,\n        \"samples\": [\n          4,\n          12\n        ],\n        \"semantic_type\": \"\",\n        \"description\": \"\"\n      }\n    },\n    {\n      \"column\": \"Storage_GB_SSD\",\n      \"properties\": {\n        \"dtype\": \"number\",\n        \"std\": 34,\n        \"min\": 128,\n        \"max\": 256,\n        \"num_unique_values\": 2,\n        \"samples\": [\n          128,\n          256\n        ],\n        \"semantic_type\": \"\",\n        \"description\": \"\"\n      }\n    },\n    {\n      \"column\": \"Weight_kg\",\n      \"properties\": {\n        \"dtype\": \"number\",\n        \"std\": 0.49433183520518015,\n        \"min\": 0.81,\n        \"max\": 3.6,\n        \"num_unique_values\": 77,\n        \"samples\": [\n          2.1,\n          1.26\n        ],\n        \"semantic_type\": \"\",\n        \"description\": \"\"\n      }\n    },\n    {\n      \"column\": \"Price\",\n      \"properties\": {\n        \"dtype\": \"number\",\n        \"std\": 574,\n        \"min\": 527,\n        \"max\": 3810,\n        \"num_unique_values\": 193,\n        \"samples\": [\n          1172,\n          1598\n        ],\n        \"semantic_type\": \"\",\n        \"description\": \"\"\n      }\n    }\n  ]\n}"
            }
          },
          "metadata": {},
          "execution_count": 32
        }
      ],
      "source": [
        "import numpy as np\n",
        "import pandas as pd\n",
        "import matplotlib.pyplot as plt\n",
        "\n",
        "laptop_df=pd.read_csv(\"/content/laptop_dataset.csv\", skiprows=1)\n",
        "laptop_df\n"
      ]
    },
    {
      "cell_type": "markdown",
      "id": "34ba44ae-166e-4d0b-bcef-83fa6037fc8e",
      "metadata": {
        "id": "34ba44ae-166e-4d0b-bcef-83fa6037fc8e"
      },
      "source": [
        "#### Q28 (3 points): Write a code to fill the missing values.\n",
        "- Screen Size with the most frequent value of the attribute\n",
        "- Weight with the average value of the attribute"
      ]
    },
    {
      "cell_type": "code",
      "execution_count": 35,
      "id": "c500d276-5cc5-4d90-a6c8-ad8958e01ffe",
      "metadata": {
        "colab": {
          "base_uri": "https://localhost:8080/"
        },
        "id": "c500d276-5cc5-4d90-a6c8-ad8958e01ffe",
        "outputId": "8d75f527-9de2-4717-ecd9-08260971cb11"
      },
      "outputs": [
        {
          "output_type": "stream",
          "name": "stdout",
          "text": [
            "     Unnamed: 0 Manufacturer  Category     Screen  GPU  OS  CPU_core  \\\n",
            "0             0         Acer         4  IPS Panel    2   1         5   \n",
            "1             1         Dell         3    Full HD    1   1         3   \n",
            "2             2         Dell         3    Full HD    1   1         7   \n",
            "3             3         Dell         4  IPS Panel    2   1         5   \n",
            "4             4           HP         4    Full HD    2   1         7   \n",
            "..          ...          ...       ...        ...  ...  ..       ...   \n",
            "233         233       Lenovo         4  IPS Panel    2   1         7   \n",
            "234         234      Toshiba         3    Full HD    2   1         5   \n",
            "235         235       Lenovo         4  IPS Panel    2   1         5   \n",
            "236         236       Lenovo         3    Full HD    3   1         5   \n",
            "237         237      Toshiba         3    Full HD    2   1         5   \n",
            "\n",
            "     Screen_Size_cm  CPU_frequency  RAM_GB  Storage_GB_SSD  Weight_kg  Price  \n",
            "0            35.560            1.6       8             256       1.60    978  \n",
            "1            39.624            2.0       4             256       2.20    634  \n",
            "2            39.624            2.7       8             256       2.20    946  \n",
            "3            33.782            1.6       8             128       1.22   1244  \n",
            "4            39.624            1.8       8             256       1.91    837  \n",
            "..              ...            ...     ...             ...        ...    ...  \n",
            "233          35.560            2.6       8             256       1.70   1891  \n",
            "234          33.782            2.4       8             256       1.20   1950  \n",
            "235          30.480            2.6       8             256       1.36   2236  \n",
            "236          39.624            2.5       6             256       2.40    883  \n",
            "237          35.560            2.3       8             256       1.95   1499  \n",
            "\n",
            "[238 rows x 13 columns]\n"
          ]
        },
        {
          "output_type": "stream",
          "name": "stderr",
          "text": [
            "<ipython-input-35-b11ae13c8ef6>:2: FutureWarning: A value is trying to be set on a copy of a DataFrame or Series through chained assignment using an inplace method.\n",
            "The behavior will change in pandas 3.0. This inplace method will never work because the intermediate object on which we are setting values always behaves as a copy.\n",
            "\n",
            "For example, when doing 'df[col].method(value, inplace=True)', try using 'df.method({col: value}, inplace=True)' or df[col] = df[col].method(value) instead, to perform the operation inplace on the original object.\n",
            "\n",
            "\n",
            "  laptop_df['Screen_Size_cm'].fillna(frequent_screen_size, inplace=True)\n",
            "<ipython-input-35-b11ae13c8ef6>:5: FutureWarning: A value is trying to be set on a copy of a DataFrame or Series through chained assignment using an inplace method.\n",
            "The behavior will change in pandas 3.0. This inplace method will never work because the intermediate object on which we are setting values always behaves as a copy.\n",
            "\n",
            "For example, when doing 'df[col].method(value, inplace=True)', try using 'df.method({col: value}, inplace=True)' or df[col] = df[col].method(value) instead, to perform the operation inplace on the original object.\n",
            "\n",
            "\n",
            "  laptop_df['Weight_kg'].fillna(average_weight, inplace=True)\n"
          ]
        }
      ],
      "source": [
        "frequent_screen_size = laptop_df['Screen_Size_cm'].mode()[0]\n",
        "laptop_df['Screen_Size_cm'].fillna(frequent_screen_size, inplace=True)\n",
        "\n",
        "average_weight = laptop_df['Weight_kg'].mean()\n",
        "laptop_df['Weight_kg'].fillna(average_weight, inplace=True)\n",
        "\n",
        "print(laptop_df)"
      ]
    },
    {
      "cell_type": "markdown",
      "id": "07770859-a75b-4cb9-b048-cedfb6b69f9d",
      "metadata": {
        "id": "07770859-a75b-4cb9-b048-cedfb6b69f9d"
      },
      "source": [
        "#### Q29 (3 points):\n",
        "Use the below mentioned units of conversion and write a code to modify the columns of the dataframe. Update their names as well.\n",
        "\n",
        "- Screen_Size_cm -> Screen_Size_inch   \n",
        "- Weight_kg -> Weight_pounds\n",
        "\n",
        "```{math}\n",
        "1 inch = 2.54 cm\n",
        "1 kg   = 2.205 pounds\n",
        "```"
      ]
    },
    {
      "cell_type": "code",
      "execution_count": null,
      "id": "bb0b3827-86f3-4df0-a5bd-b40428f7e84d",
      "metadata": {
        "id": "bb0b3827-86f3-4df0-a5bd-b40428f7e84d"
      },
      "outputs": [],
      "source": []
    },
    {
      "cell_type": "markdown",
      "id": "d105dbd4-32a5-4ed8-9ff8-6b529cf153b7",
      "metadata": {
        "id": "d105dbd4-32a5-4ed8-9ff8-6b529cf153b7"
      },
      "source": [
        "#### Q30 (2 points): Normalize the \"CPU_frequency\" attribute using the Z-score."
      ]
    },
    {
      "cell_type": "markdown",
      "id": "e71aeb1b-3d44-420a-946a-b6255ab239a5",
      "metadata": {
        "id": "e71aeb1b-3d44-420a-946a-b6255ab239a5"
      },
      "source": [
        ""
      ]
    },
    {
      "cell_type": "markdown",
      "id": "ce55cd39-d118-404e-805e-90317f012634",
      "metadata": {
        "id": "ce55cd39-d118-404e-805e-90317f012634"
      },
      "source": [
        "#### Q31(10 points):\n",
        "Binning is a process of creating a categorical attribute which splits the values of a continuous data into a specified number of groups. In this case, write a code to create 3 bins for the attribute \"Price\". These bins would be named \"Low\", \"Medium\" and \"High\". The new attribute will be named \"Price-binned\".\n",
        "\n",
        "Hint: you can use np.linspace   \n",
        "![image.png](attachment:c13c5807-cccd-4b06-8698-69e4d8dc4dc6.png)"
      ]
    },
    {
      "cell_type": "code",
      "execution_count": null,
      "id": "c80ad168-cc2b-4f9b-af72-6c9f9e752ae4",
      "metadata": {
        "id": "c80ad168-cc2b-4f9b-af72-6c9f9e752ae4"
      },
      "outputs": [],
      "source": []
    },
    {
      "cell_type": "markdown",
      "id": "e6c87de1-c50e-4df8-a96a-fb12d1594e03",
      "metadata": {
        "id": "e6c87de1-c50e-4df8-a96a-fb12d1594e03"
      },
      "source": [
        "#### Q32 (10 points):\n",
        "Run a linear regression model to predict 'price' and calculate the following evaluation metrics:\n",
        "\n",
        "- Mean Squared Error (MSE)\n",
        "- R-squared (R²)"
      ]
    },
    {
      "cell_type": "code",
      "execution_count": null,
      "id": "e9db803d-671d-49ba-8f17-2d3ce07c529f",
      "metadata": {
        "id": "e9db803d-671d-49ba-8f17-2d3ce07c529f"
      },
      "outputs": [],
      "source": [
        "from sklearn.linear_model import LinearRegression\n",
        "model = LinearRegression()"
      ]
    },
    {
      "cell_type": "markdown",
      "id": "18609a65-3cfe-49bd-8d82-7b4e4fb2df16",
      "metadata": {
        "id": "18609a65-3cfe-49bd-8d82-7b4e4fb2df16"
      },
      "source": [
        "\n"
      ]
    }
  ],
  "metadata": {
    "kernelspec": {
      "display_name": "Python 3 (ipykernel)",
      "language": "python",
      "name": "python3"
    },
    "language_info": {
      "codemirror_mode": {
        "name": "ipython",
        "version": 3
      },
      "file_extension": ".py",
      "mimetype": "text/x-python",
      "name": "python",
      "nbconvert_exporter": "python",
      "pygments_lexer": "ipython3",
      "version": "3.12.5"
    },
    "colab": {
      "provenance": [],
      "include_colab_link": true
    }
  },
  "nbformat": 4,
  "nbformat_minor": 5
}