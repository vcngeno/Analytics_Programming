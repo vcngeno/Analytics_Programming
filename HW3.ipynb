{
  "nbformat": 4,
  "nbformat_minor": 0,
  "metadata": {
    "colab": {
      "provenance": [],
      "mount_file_id": "1SI8dac8dOiOXpJLpfGSppjf_YuIo44bp",
      "authorship_tag": "ABX9TyNwsmEzjgkcRyWCM/GYVL/9",
      "include_colab_link": true
    },
    "kernelspec": {
      "name": "python3",
      "display_name": "Python 3"
    },
    "language_info": {
      "name": "python"
    }
  },
  "cells": [
    {
      "cell_type": "markdown",
      "metadata": {
        "id": "view-in-github",
        "colab_type": "text"
      },
      "source": [
        "<a href=\"https://colab.research.google.com/github/vcngeno/Analytics_Programming/blob/main/HW3.ipynb\" target=\"_parent\"><img src=\"https://colab.research.google.com/assets/colab-badge.svg\" alt=\"Open In Colab\"/></a>"
      ]
    },
    {
      "cell_type": "markdown",
      "source": [
        "#Loading the data & pick-up from HW2\n"
      ],
      "metadata": {
        "id": "yv98K8UKYOyn"
      }
    },
    {
      "cell_type": "code",
      "execution_count": 1,
      "metadata": {
        "id": "LtIAM2N_gOYy"
      },
      "outputs": [],
      "source": [
        "#importing the libraries\n",
        "import pandas as pd\n",
        "import numpy as np\n",
        "import matplotlib.pyplot as plt; plt.rcdefaults()\n",
        "from datetime import datetime, date, time\n",
        "import seaborn as sns"
      ]
    },
    {
      "cell_type": "code",
      "source": [
        "# Read the header file (assuming it's a CSV with one row)\n",
        "df_header = '/content/headers.txt'\n",
        "headers = pd.read_csv(df_header, header=None).iloc[0].tolist()"
      ],
      "metadata": {
        "id": "qwa79Ig9KCR5"
      },
      "execution_count": 2,
      "outputs": []
    },
    {
      "cell_type": "code",
      "source": [
        "# Read the data file (assuming it's a CSV without headers)\n",
        "df_data = '/content/drive/MyDrive/rawdata.csv'\n",
        "data = pd.read_csv(df_data, header=None, sep = '\\t', on_bad_lines='skip')"
      ],
      "metadata": {
        "id": "7PYpasEwKHDe"
      },
      "execution_count": 3,
      "outputs": []
    },
    {
      "cell_type": "code",
      "source": [
        "from datetime import datetime, date, time\n"
      ],
      "metadata": {
        "id": "_wYMogdpKiDZ"
      },
      "execution_count": 4,
      "outputs": []
    },
    {
      "cell_type": "code",
      "source": [
        "datetime.strptime(\"20091031\", \"%Y%m%d\")"
      ],
      "metadata": {
        "colab": {
          "base_uri": "https://localhost:8080/"
        },
        "id": "w7r-VTDbKoz3",
        "outputId": "f581ad9f-7972-4371-a004-72c49660c25b"
      },
      "execution_count": 5,
      "outputs": [
        {
          "output_type": "execute_result",
          "data": {
            "text/plain": [
              "datetime.datetime(2009, 10, 31, 0, 0)"
            ]
          },
          "metadata": {},
          "execution_count": 5
        }
      ]
    },
    {
      "cell_type": "code",
      "source": [
        "datetime(2009, 10, 31, 0, 0)"
      ],
      "metadata": {
        "colab": {
          "base_uri": "https://localhost:8080/"
        },
        "id": "AfvSUJqGKrjz",
        "outputId": "1f7cfa24-9bb4-4fdf-af8a-4135ea82e995"
      },
      "execution_count": 6,
      "outputs": [
        {
          "output_type": "execute_result",
          "data": {
            "text/plain": [
              "datetime.datetime(2009, 10, 31, 0, 0)"
            ]
          },
          "metadata": {},
          "execution_count": 6
        }
      ]
    },
    {
      "cell_type": "code",
      "source": [
        "data.columns = headers"
      ],
      "metadata": {
        "id": "XEZPQzS_LTPu"
      },
      "execution_count": 7,
      "outputs": []
    },
    {
      "cell_type": "code",
      "source": [
        "# check count break down by ticker\n",
        "data.groupby('ticker').agg({'datetime':'count'} ).head()"
      ],
      "metadata": {
        "colab": {
          "base_uri": "https://localhost:8080/",
          "height": 238
        },
        "id": "KXZzMp96LGvI",
        "outputId": "3ece6137-e471-4869-a6c4-1ed70e5c92a1"
      },
      "execution_count": 8,
      "outputs": [
        {
          "output_type": "execute_result",
          "data": {
            "text/plain": [
              "        datetime\n",
              "ticker          \n",
              "A          23700\n",
              "AA         23700\n",
              "AAMRQ      19750\n",
              "AAN         7900\n",
              "AAP        23700"
            ],
            "text/html": [
              "\n",
              "  <div id=\"df-6062c582-79b5-49ca-b76c-ac586aff604b\" class=\"colab-df-container\">\n",
              "    <div>\n",
              "<style scoped>\n",
              "    .dataframe tbody tr th:only-of-type {\n",
              "        vertical-align: middle;\n",
              "    }\n",
              "\n",
              "    .dataframe tbody tr th {\n",
              "        vertical-align: top;\n",
              "    }\n",
              "\n",
              "    .dataframe thead th {\n",
              "        text-align: right;\n",
              "    }\n",
              "</style>\n",
              "<table border=\"1\" class=\"dataframe\">\n",
              "  <thead>\n",
              "    <tr style=\"text-align: right;\">\n",
              "      <th></th>\n",
              "      <th>datetime</th>\n",
              "    </tr>\n",
              "    <tr>\n",
              "      <th>ticker</th>\n",
              "      <th></th>\n",
              "    </tr>\n",
              "  </thead>\n",
              "  <tbody>\n",
              "    <tr>\n",
              "      <th>A</th>\n",
              "      <td>23700</td>\n",
              "    </tr>\n",
              "    <tr>\n",
              "      <th>AA</th>\n",
              "      <td>23700</td>\n",
              "    </tr>\n",
              "    <tr>\n",
              "      <th>AAMRQ</th>\n",
              "      <td>19750</td>\n",
              "    </tr>\n",
              "    <tr>\n",
              "      <th>AAN</th>\n",
              "      <td>7900</td>\n",
              "    </tr>\n",
              "    <tr>\n",
              "      <th>AAP</th>\n",
              "      <td>23700</td>\n",
              "    </tr>\n",
              "  </tbody>\n",
              "</table>\n",
              "</div>\n",
              "    <div class=\"colab-df-buttons\">\n",
              "\n",
              "  <div class=\"colab-df-container\">\n",
              "    <button class=\"colab-df-convert\" onclick=\"convertToInteractive('df-6062c582-79b5-49ca-b76c-ac586aff604b')\"\n",
              "            title=\"Convert this dataframe to an interactive table.\"\n",
              "            style=\"display:none;\">\n",
              "\n",
              "  <svg xmlns=\"http://www.w3.org/2000/svg\" height=\"24px\" viewBox=\"0 -960 960 960\">\n",
              "    <path d=\"M120-120v-720h720v720H120Zm60-500h600v-160H180v160Zm220 220h160v-160H400v160Zm0 220h160v-160H400v160ZM180-400h160v-160H180v160Zm440 0h160v-160H620v160ZM180-180h160v-160H180v160Zm440 0h160v-160H620v160Z\"/>\n",
              "  </svg>\n",
              "    </button>\n",
              "\n",
              "  <style>\n",
              "    .colab-df-container {\n",
              "      display:flex;\n",
              "      gap: 12px;\n",
              "    }\n",
              "\n",
              "    .colab-df-convert {\n",
              "      background-color: #E8F0FE;\n",
              "      border: none;\n",
              "      border-radius: 50%;\n",
              "      cursor: pointer;\n",
              "      display: none;\n",
              "      fill: #1967D2;\n",
              "      height: 32px;\n",
              "      padding: 0 0 0 0;\n",
              "      width: 32px;\n",
              "    }\n",
              "\n",
              "    .colab-df-convert:hover {\n",
              "      background-color: #E2EBFA;\n",
              "      box-shadow: 0px 1px 2px rgba(60, 64, 67, 0.3), 0px 1px 3px 1px rgba(60, 64, 67, 0.15);\n",
              "      fill: #174EA6;\n",
              "    }\n",
              "\n",
              "    .colab-df-buttons div {\n",
              "      margin-bottom: 4px;\n",
              "    }\n",
              "\n",
              "    [theme=dark] .colab-df-convert {\n",
              "      background-color: #3B4455;\n",
              "      fill: #D2E3FC;\n",
              "    }\n",
              "\n",
              "    [theme=dark] .colab-df-convert:hover {\n",
              "      background-color: #434B5C;\n",
              "      box-shadow: 0px 1px 3px 1px rgba(0, 0, 0, 0.15);\n",
              "      filter: drop-shadow(0px 1px 2px rgba(0, 0, 0, 0.3));\n",
              "      fill: #FFFFFF;\n",
              "    }\n",
              "  </style>\n",
              "\n",
              "    <script>\n",
              "      const buttonEl =\n",
              "        document.querySelector('#df-6062c582-79b5-49ca-b76c-ac586aff604b button.colab-df-convert');\n",
              "      buttonEl.style.display =\n",
              "        google.colab.kernel.accessAllowed ? 'block' : 'none';\n",
              "\n",
              "      async function convertToInteractive(key) {\n",
              "        const element = document.querySelector('#df-6062c582-79b5-49ca-b76c-ac586aff604b');\n",
              "        const dataTable =\n",
              "          await google.colab.kernel.invokeFunction('convertToInteractive',\n",
              "                                                    [key], {});\n",
              "        if (!dataTable) return;\n",
              "\n",
              "        const docLinkHtml = 'Like what you see? Visit the ' +\n",
              "          '<a target=\"_blank\" href=https://colab.research.google.com/notebooks/data_table.ipynb>data table notebook</a>'\n",
              "          + ' to learn more about interactive tables.';\n",
              "        element.innerHTML = '';\n",
              "        dataTable['output_type'] = 'display_data';\n",
              "        await google.colab.output.renderOutput(dataTable, element);\n",
              "        const docLink = document.createElement('div');\n",
              "        docLink.innerHTML = docLinkHtml;\n",
              "        element.appendChild(docLink);\n",
              "      }\n",
              "    </script>\n",
              "  </div>\n",
              "\n",
              "\n",
              "<div id=\"df-05f5df24-3f43-4e9d-b6b9-b0b9d58e15cb\">\n",
              "  <button class=\"colab-df-quickchart\" onclick=\"quickchart('df-05f5df24-3f43-4e9d-b6b9-b0b9d58e15cb')\"\n",
              "            title=\"Suggest charts\"\n",
              "            style=\"display:none;\">\n",
              "\n",
              "<svg xmlns=\"http://www.w3.org/2000/svg\" height=\"24px\"viewBox=\"0 0 24 24\"\n",
              "     width=\"24px\">\n",
              "    <g>\n",
              "        <path d=\"M19 3H5c-1.1 0-2 .9-2 2v14c0 1.1.9 2 2 2h14c1.1 0 2-.9 2-2V5c0-1.1-.9-2-2-2zM9 17H7v-7h2v7zm4 0h-2V7h2v10zm4 0h-2v-4h2v4z\"/>\n",
              "    </g>\n",
              "</svg>\n",
              "  </button>\n",
              "\n",
              "<style>\n",
              "  .colab-df-quickchart {\n",
              "      --bg-color: #E8F0FE;\n",
              "      --fill-color: #1967D2;\n",
              "      --hover-bg-color: #E2EBFA;\n",
              "      --hover-fill-color: #174EA6;\n",
              "      --disabled-fill-color: #AAA;\n",
              "      --disabled-bg-color: #DDD;\n",
              "  }\n",
              "\n",
              "  [theme=dark] .colab-df-quickchart {\n",
              "      --bg-color: #3B4455;\n",
              "      --fill-color: #D2E3FC;\n",
              "      --hover-bg-color: #434B5C;\n",
              "      --hover-fill-color: #FFFFFF;\n",
              "      --disabled-bg-color: #3B4455;\n",
              "      --disabled-fill-color: #666;\n",
              "  }\n",
              "\n",
              "  .colab-df-quickchart {\n",
              "    background-color: var(--bg-color);\n",
              "    border: none;\n",
              "    border-radius: 50%;\n",
              "    cursor: pointer;\n",
              "    display: none;\n",
              "    fill: var(--fill-color);\n",
              "    height: 32px;\n",
              "    padding: 0;\n",
              "    width: 32px;\n",
              "  }\n",
              "\n",
              "  .colab-df-quickchart:hover {\n",
              "    background-color: var(--hover-bg-color);\n",
              "    box-shadow: 0 1px 2px rgba(60, 64, 67, 0.3), 0 1px 3px 1px rgba(60, 64, 67, 0.15);\n",
              "    fill: var(--button-hover-fill-color);\n",
              "  }\n",
              "\n",
              "  .colab-df-quickchart-complete:disabled,\n",
              "  .colab-df-quickchart-complete:disabled:hover {\n",
              "    background-color: var(--disabled-bg-color);\n",
              "    fill: var(--disabled-fill-color);\n",
              "    box-shadow: none;\n",
              "  }\n",
              "\n",
              "  .colab-df-spinner {\n",
              "    border: 2px solid var(--fill-color);\n",
              "    border-color: transparent;\n",
              "    border-bottom-color: var(--fill-color);\n",
              "    animation:\n",
              "      spin 1s steps(1) infinite;\n",
              "  }\n",
              "\n",
              "  @keyframes spin {\n",
              "    0% {\n",
              "      border-color: transparent;\n",
              "      border-bottom-color: var(--fill-color);\n",
              "      border-left-color: var(--fill-color);\n",
              "    }\n",
              "    20% {\n",
              "      border-color: transparent;\n",
              "      border-left-color: var(--fill-color);\n",
              "      border-top-color: var(--fill-color);\n",
              "    }\n",
              "    30% {\n",
              "      border-color: transparent;\n",
              "      border-left-color: var(--fill-color);\n",
              "      border-top-color: var(--fill-color);\n",
              "      border-right-color: var(--fill-color);\n",
              "    }\n",
              "    40% {\n",
              "      border-color: transparent;\n",
              "      border-right-color: var(--fill-color);\n",
              "      border-top-color: var(--fill-color);\n",
              "    }\n",
              "    60% {\n",
              "      border-color: transparent;\n",
              "      border-right-color: var(--fill-color);\n",
              "    }\n",
              "    80% {\n",
              "      border-color: transparent;\n",
              "      border-right-color: var(--fill-color);\n",
              "      border-bottom-color: var(--fill-color);\n",
              "    }\n",
              "    90% {\n",
              "      border-color: transparent;\n",
              "      border-bottom-color: var(--fill-color);\n",
              "    }\n",
              "  }\n",
              "</style>\n",
              "\n",
              "  <script>\n",
              "    async function quickchart(key) {\n",
              "      const quickchartButtonEl =\n",
              "        document.querySelector('#' + key + ' button');\n",
              "      quickchartButtonEl.disabled = true;  // To prevent multiple clicks.\n",
              "      quickchartButtonEl.classList.add('colab-df-spinner');\n",
              "      try {\n",
              "        const charts = await google.colab.kernel.invokeFunction(\n",
              "            'suggestCharts', [key], {});\n",
              "      } catch (error) {\n",
              "        console.error('Error during call to suggestCharts:', error);\n",
              "      }\n",
              "      quickchartButtonEl.classList.remove('colab-df-spinner');\n",
              "      quickchartButtonEl.classList.add('colab-df-quickchart-complete');\n",
              "    }\n",
              "    (() => {\n",
              "      let quickchartButtonEl =\n",
              "        document.querySelector('#df-05f5df24-3f43-4e9d-b6b9-b0b9d58e15cb button');\n",
              "      quickchartButtonEl.style.display =\n",
              "        google.colab.kernel.accessAllowed ? 'block' : 'none';\n",
              "    })();\n",
              "  </script>\n",
              "</div>\n",
              "\n",
              "    </div>\n",
              "  </div>\n"
            ],
            "application/vnd.google.colaboratory.intrinsic+json": {
              "type": "dataframe",
              "summary": "{\n  \"name\": \"data\",\n  \"rows\": 5,\n  \"fields\": [\n    {\n      \"column\": \"ticker\",\n      \"properties\": {\n        \"dtype\": \"string\",\n        \"num_unique_values\": 5,\n        \"samples\": [\n          \"AA\",\n          \"AAP\",\n          \"AAMRQ\"\n        ],\n        \"semantic_type\": \"\",\n        \"description\": \"\"\n      }\n    },\n    {\n      \"column\": \"datetime\",\n      \"properties\": {\n        \"dtype\": \"number\",\n        \"std\": 6841,\n        \"min\": 7900,\n        \"max\": 23700,\n        \"num_unique_values\": 3,\n        \"samples\": [\n          23700,\n          19750,\n          7900\n        ],\n        \"semantic_type\": \"\",\n        \"description\": \"\"\n      }\n    }\n  ]\n}"
            }
          },
          "metadata": {},
          "execution_count": 8
        }
      ]
    },
    {
      "cell_type": "code",
      "source": [
        "full_tickers = list(set(data['ticker']))\n",
        "len(full_tickers)"
      ],
      "metadata": {
        "colab": {
          "base_uri": "https://localhost:8080/"
        },
        "id": "zH7Bh2ThK24p",
        "outputId": "ed7eb7fd-d99f-4fae-d757-a50e221a72c3"
      },
      "execution_count": 9,
      "outputs": [
        {
          "output_type": "execute_result",
          "data": {
            "text/plain": [
              "1708"
            ]
          },
          "metadata": {},
          "execution_count": 9
        }
      ]
    },
    {
      "cell_type": "code",
      "source": [
        "# Check just records for Apple\n",
        "ticker = 'AAPL'\n",
        "ticker_data = data[(data['ticker']==ticker)& (data['time'] <= 160000)]"
      ],
      "metadata": {
        "id": "rlV3LxmULeU3"
      },
      "execution_count": 10,
      "outputs": []
    },
    {
      "cell_type": "code",
      "source": [
        "print('%s %s' %(ticker, len(ticker_data) ) )\n",
        "print('First time: %s, Last time: %s' %(  min(ticker_data['datetime']), max(ticker_data['datetime'])))"
      ],
      "metadata": {
        "colab": {
          "base_uri": "https://localhost:8080/"
        },
        "id": "9_TDaekILmhD",
        "outputId": "9d748e70-d837-4038-b5c0-b669fd3b3d5c"
      },
      "execution_count": 11,
      "outputs": [
        {
          "output_type": "stream",
          "name": "stdout",
          "text": [
            "AAPL 22560\n",
            "First time: 2013-01-02 09:45:00, Last time: 2013-03-28 16:00:00\n"
          ]
        }
      ]
    },
    {
      "cell_type": "code",
      "source": [
        "from pandas.tseries.offsets import DateOffset"
      ],
      "metadata": {
        "id": "knBMOA-uPPXj"
      },
      "execution_count": 12,
      "outputs": []
    },
    {
      "cell_type": "code",
      "source": [
        "import numpy as np\n",
        "from pandas.tseries.offsets import Minute\n",
        "from datetime import timedelta"
      ],
      "metadata": {
        "id": "MqSHESo8QJJd"
      },
      "execution_count": 13,
      "outputs": []
    },
    {
      "cell_type": "code",
      "source": [
        "ticker_data['datetime'] = pd.to_datetime(ticker_data['datetime'])\n",
        "ticker_data.set_index('datetime', inplace=True)"
      ],
      "metadata": {
        "colab": {
          "base_uri": "https://localhost:8080/"
        },
        "id": "Rxwtpj_ORWb6",
        "outputId": "d5cc1170-2bb4-43c2-f409-aa94958d166c"
      },
      "execution_count": 14,
      "outputs": [
        {
          "output_type": "stream",
          "name": "stderr",
          "text": [
            "<ipython-input-14-a9620437f9fa>:1: SettingWithCopyWarning: \n",
            "A value is trying to be set on a copy of a slice from a DataFrame.\n",
            "Try using .loc[row_indexer,col_indexer] = value instead\n",
            "\n",
            "See the caveats in the documentation: https://pandas.pydata.org/pandas-docs/stable/user_guide/indexing.html#returning-a-view-versus-a-copy\n",
            "  ticker_data['datetime'] = pd.to_datetime(ticker_data['datetime'])\n"
          ]
        }
      ]
    },
    {
      "cell_type": "code",
      "source": [
        "print(ticker_data.index.dtype)"
      ],
      "metadata": {
        "colab": {
          "base_uri": "https://localhost:8080/"
        },
        "id": "42MJ_mtZSEYl",
        "outputId": "416c9b41-7fee-4d0e-97be-c8c06550783c"
      },
      "execution_count": 15,
      "outputs": [
        {
          "output_type": "stream",
          "name": "stdout",
          "text": [
            "datetime64[ns]\n"
          ]
        }
      ]
    },
    {
      "cell_type": "code",
      "source": [
        "tickers = full_tickers[0:10]\n",
        "\n",
        "agg_data = pd.DataFrame()\n",
        "for ticker in tickers:\n",
        "    ticker_data = data[(data['ticker']==ticker) & (data['time'] <= 160000)].copy()\n",
        "\n",
        "    # Convert datetime column to datetime format and set as index\n",
        "    ticker_data['datetime'] = pd.to_datetime(ticker_data['datetime'])\n",
        "    ticker_data.set_index('datetime', inplace=True)\n",
        "\n",
        "    print('%s %s' %(ticker, len(ticker_data) ) )\n",
        "    print('First time: %s, Last time: %s' %(  min(ticker_data.index), max(ticker_data.index)))\n",
        "\n",
        "    ticker_data = ticker_data[['ticker', 'sector', 'mid', 'alpha2', 'alpha1']]\n",
        "\n",
        "    # Shift index by 1 minute\n",
        "    ticker_data_shift_1 = ticker_data.copy()['mid']\n",
        "    ticker_data_shift_1.index  =  ticker_data_shift_1.index - pd.Timedelta(minutes=1)\n",
        "    ticker_data = ticker_data.join(ticker_data_shift_1, how='left', lsuffix='', rsuffix='_r',).rename(columns={ 'mid_r': 'mid_1'})\n",
        "    ticker_data['return_1'] = (ticker_data['mid_1'] - ticker_data['mid'] )/ticker_data['mid']\n",
        "\n",
        "    # Shift index by 5 minutes\n",
        "    ticker_data_shift_5 = ticker_data.copy()['mid']\n",
        "    ticker_data_shift_5.index  =  ticker_data_shift_5.index - pd.Timedelta(minutes=5)\n",
        "    ticker_data = ticker_data.join(ticker_data_shift_5, how='left', lsuffix='', rsuffix='_r',).rename(columns={ 'mid_r': 'mid_5'})\n",
        "    ticker_data['return_5'] = (ticker_data['mid_5'] - ticker_data['mid'] )/ticker_data['mid']\n",
        "\n",
        "    # Shift index by 15 minutes\n",
        "    ticker_data_shift_15 = ticker_data.copy()['mid']\n",
        "    ticker_data_shift_15.index  =  ticker_data_shift_15.index - pd.Timedelta(minutes=15)\n",
        "    ticker_data = ticker_data.join(ticker_data_shift_15, how='left', lsuffix='', rsuffix='_r',).rename(columns={ 'mid_r': 'mid_15'})\n",
        "    ticker_data['return_15'] = (ticker_data['mid_15'] - ticker_data['mid'] )/ticker_data['mid']\n",
        "\n",
        "    agg_data = pd.concat([agg_data, ticker_data] )"
      ],
      "metadata": {
        "colab": {
          "base_uri": "https://localhost:8080/"
        },
        "id": "Bz4rLwtiTwGl",
        "outputId": "4b35f1d3-54a2-4bed-b363-0c02dd66a94f"
      },
      "execution_count": 19,
      "outputs": [
        {
          "output_type": "stream",
          "name": "stdout",
          "text": [
            "BCS 22560\n",
            "First time: 2013-01-02 09:45:00, Last time: 2013-03-28 16:00:00\n",
            "WFR 22560\n",
            "First time: 2013-01-02 09:45:00, Last time: 2013-03-28 16:00:00\n",
            "STWD 22560\n",
            "First time: 2013-01-02 09:45:00, Last time: 2013-03-28 16:00:00\n",
            "MNST 22560\n",
            "First time: 2013-01-02 09:45:00, Last time: 2013-03-28 16:00:00\n",
            "ICE 22560\n",
            "First time: 2013-01-02 09:45:00, Last time: 2013-03-28 16:00:00\n",
            "RGLD 22560\n",
            "First time: 2013-01-02 09:45:00, Last time: 2013-03-28 16:00:00\n",
            "PDS 7144\n",
            "First time: 2013-01-02 09:45:00, Last time: 2013-01-29 16:00:00\n",
            "SPF 22560\n",
            "First time: 2013-01-02 09:45:00, Last time: 2013-03-28 16:00:00\n",
            "RGP 22560\n",
            "First time: 2013-01-02 09:45:00, Last time: 2013-03-28 16:00:00\n",
            "PHG 22560\n",
            "First time: 2013-01-02 09:45:00, Last time: 2013-03-28 16:00:00\n"
          ]
        }
      ]
    },
    {
      "cell_type": "markdown",
      "source": [
        "#Identify the best-performing sector in terms of return.\n"
      ],
      "metadata": {
        "id": "3w407bXAXowV"
      }
    },
    {
      "cell_type": "code",
      "source": [
        "# Calculate average return for each sector (e.g., using return_1)\n",
        "sector_returns = agg_data.groupby('sector')['return_1'].mean().reset_index()\n",
        "\n",
        "# Sort sectors by average return in descending order\n",
        "sector_returns = sector_returns.sort_values(by='return_1', ascending=False)\n",
        "\n",
        "# Print the top-performing sector\n",
        "print(\"Best-performing sector:\", sector_returns.iloc[0]['sector'])\n",
        "print(\"Average return:\", sector_returns.iloc[0]['return_1'])"
      ],
      "metadata": {
        "colab": {
          "base_uri": "https://localhost:8080/"
        },
        "id": "8pKBsQcHU74q",
        "outputId": "fed4ef03-68fa-45ad-b44d-e901ac93dad1"
      },
      "execution_count": 20,
      "outputs": [
        {
          "output_type": "stream",
          "name": "stdout",
          "text": [
            "Best-performing sector: IndustrySector_Energy\n",
            "Average return: 6.330195920871968e-06\n"
          ]
        }
      ]
    },
    {
      "cell_type": "markdown",
      "source": [
        "#Plot the historical returns for each sector."
      ],
      "metadata": {
        "id": "njDNSdnYXu9z"
      }
    },
    {
      "cell_type": "code",
      "source": [
        "\n",
        "# Calculate historical returns for each sector\n",
        "sector_returns = agg_data.groupby('sector')['return_1'].mean().reset_index()\n",
        "\n",
        "# Sort sectors by average return in descending order\n",
        "sector_returns = sector_returns.sort_values(by='return_1', ascending=False)\n",
        "\n",
        "# Plot historical returns for each sector\n",
        "plt.figure(figsize=(12, 8))\n",
        "plt.bar(sector_returns['sector'], sector_returns['return_1'])\n",
        "plt.xlabel('Sector')\n",
        "plt.ylabel('Average Return')\n",
        "plt.title('Historical Returns by Sector')\n",
        "plt.xticks(rotation=90)\n",
        "plt.tight_layout()\n",
        "plt.show()"
      ],
      "metadata": {
        "colab": {
          "base_uri": "https://localhost:8080/",
          "height": 827
        },
        "id": "KywTBGe3WEJR",
        "outputId": "8f07cd03-e446-4cb4-9df3-5931b80707a6"
      },
      "execution_count": 21,
      "outputs": [
        {
          "output_type": "display_data",
          "data": {
            "text/plain": [
              "<Figure size 1200x800 with 1 Axes>"
            ],
            "image/png": "[encoded data removed]"
          },
          "metadata": {}
        }
      ]
    },
    {
      "cell_type": "markdown",
      "source": [
        "#For each ticker, calculate the following:\n",
        "\n",
        "1.Standard deviation of the daily closing price\n",
        "\n",
        "2.Average daily return"
      ],
      "metadata": {
        "id": "1nhVznX_X1Mz"
      }
    },
    {
      "cell_type": "code",
      "source": [
        "\n",
        "# Calculate standard deviation and average daily return for each ticker\n",
        "ticker_metrics = agg_data.groupby('ticker')[['mid', 'return_1']].agg({'mid': 'std', 'return_1': 'mean'}).reset_index()\n",
        "\n",
        "# Rename columns\n",
        "ticker_metrics = ticker_metrics.rename(columns={'mid': 'std_dev_daily_close', 'return_1': 'avg_daily_return'})\n",
        "\n",
        "print(ticker_metrics)"
      ],
      "metadata": {
        "colab": {
          "base_uri": "https://localhost:8080/"
        },
        "id": "bMOXHOC6WLZX",
        "outputId": "9209291b-a760-4452-e4db-033dca7411fc"
      },
      "execution_count": 22,
      "outputs": [
        {
          "output_type": "stream",
          "name": "stdout",
          "text": [
            "  ticker  std_dev_daily_close  avg_daily_return\n",
            "0    BCS             0.656911      1.492864e-07\n",
            "1    ICE            12.790511      1.331907e-05\n",
            "2   MNST             1.660285     -2.283240e-06\n",
            "3    PDS             0.280884      1.399377e-05\n",
            "4    PHG             1.286491     -7.711055e-07\n",
            "5   RGLD             5.848668     -5.571354e-06\n",
            "6    RGP             0.624916      3.903398e-06\n",
            "7    SPF             0.413858     -1.414619e-06\n",
            "8   STWD             1.633661      4.907663e-06\n",
            "9    WFR             0.532519      5.902680e-06\n"
          ]
        }
      ]
    },
    {
      "cell_type": "markdown",
      "source": [
        "#Calculate the correlation (using daily closing prices) between GOOG and AAPL."
      ],
      "metadata": {
        "id": "1JIKStQ2YAHg"
      }
    },
    {
      "cell_type": "code",
      "source": [
        "# Reset index to move 'datetime' to a column\n",
        "goog_data = agg_data[agg_data['ticker'] == 'GOOG'].reset_index()\n",
        "aapl_data = agg_data[agg_data['ticker'] == 'AAPL'].reset_index()\n",
        "\n",
        "# Filter required columns\n",
        "goog_data = goog_data[['datetime', 'mid']]\n",
        "aapl_data = aapl_data[['datetime', 'mid']]\n",
        "\n",
        "# Rename columns for merging\n",
        "goog_data = goog_data.rename(columns={'mid': 'mid_GOOG'})\n",
        "aapl_data = aapl_data.rename(columns={'mid': 'mid_AAPL'})\n",
        "\n",
        "# Merge data on datetime\n",
        "merged_data = pd.merge(goog_data, aapl_data, on='datetime')\n",
        "\n",
        "# Calculate correlation\n",
        "correlation = merged_data['mid_GOOG'].corr(merged_data['mid_AAPL'])\n",
        "\n",
        "print(\"Correlation between GOOG and AAPL:\", correlation)"
      ],
      "metadata": {
        "colab": {
          "base_uri": "https://localhost:8080/"
        },
        "id": "smrB120MW2pG",
        "outputId": "d58ac7ff-983c-4bba-b102-d296e9cf6632"
      },
      "execution_count": 24,
      "outputs": [
        {
          "output_type": "stream",
          "name": "stdout",
          "text": [
            "Correlation between GOOG and AAPL: nan\n"
          ]
        }
      ]
    },
    {
      "cell_type": "markdown",
      "source": [
        "There was no correlation in closing prices between Google & Apple"
      ],
      "metadata": {
        "id": "gDOiJFvCYC8n"
      }
    }
  ]
}